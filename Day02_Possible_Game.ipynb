{
 "cells": [
  {
   "cell_type": "code",
   "execution_count": 58,
   "metadata": {},
   "outputs": [],
   "source": [
    "import pandas as pd\n",
    "import re"
   ]
  },
  {
   "cell_type": "markdown",
   "metadata": {},
   "source": [
    "# Clean input into dataframe"
   ]
  },
  {
   "cell_type": "code",
   "execution_count": 59,
   "metadata": {},
   "outputs": [],
   "source": [
    "raw_input = pd.read_excel(\"DATA/Day_02_Possible_Game.xlsx\")"
   ]
  },
  {
   "cell_type": "code",
   "execution_count": 60,
   "metadata": {},
   "outputs": [],
   "source": [
    "raw_input[['Game', 'Sets']] = raw_input['Input'].str.split(\": \", n = 1, expand=True)"
   ]
  },
  {
   "cell_type": "code",
   "execution_count": 61,
   "metadata": {},
   "outputs": [
    {
     "name": "stderr",
     "output_type": "stream",
     "text": [
      "/tmp/ipykernel_603451/3699298453.py:7: FutureWarning: In a future version of pandas all arguments of DataFrame.drop except for the argument 'labels' will be keyword-only.\n",
      "  raw_input = raw_input.join(new).drop(\"Sets\", 1)\n",
      "/tmp/ipykernel_603451/3699298453.py:16: FutureWarning: In a future version of pandas all arguments of DataFrame.drop except for the argument 'labels' will be keyword-only.\n",
      "  raw_input = raw_input.drop([\"Input\"], 1)\n"
     ]
    }
   ],
   "source": [
    "columns = raw_input.Sets.max().split(';')\n",
    "\n",
    "new = raw_input.Sets.str.split(\";\", expand = True)\n",
    "new.columns = columns\n",
    "new = new.add_prefix(\"Set\")\n",
    "\n",
    "raw_input = raw_input.join(new).drop(\"Sets\", 1)\n",
    "raw_input = raw_input.rename(columns = {\n",
    "   \"Set9 red\": \"Set_1\",\n",
    "   \"Set 10 red, 2 blue\": \"Set_2\",\n",
    "   \"Set 3 red\": \"Set_3\",\n",
    "   \"Set 8 red, 1 green, 2 blue\": \"Set_4\",\n",
    "   \"Set 1 red, 2 blue\": \"Set_5\",\n",
    "   \"Set 1 blue, 4 red\" : \"Set_6\"\n",
    "})\n",
    "raw_input = raw_input.drop([\"Input\"], 1)"
   ]
  },
  {
   "cell_type": "code",
   "execution_count": 62,
   "metadata": {},
   "outputs": [],
   "source": [
    "raw_input_long = raw_input.melt(id_vars=\"Game\")\n",
    "raw_input_long = raw_input_long[~raw_input_long['value'].isna()]\n",
    "# raw_input_long.value = raw_input_long.value.fillna('')"
   ]
  },
  {
   "cell_type": "code",
   "execution_count": 63,
   "metadata": {},
   "outputs": [],
   "source": [
    "def search_color_blue(set_string):\n",
    "\n",
    "    rule_search = re.compile(r'([0-9]+)\\sblue')\n",
    "\n",
    "    color = rule_search.search(set_string)\n",
    "\n",
    "    if color is None:\n",
    "\n",
    "        return 0\n",
    "\n",
    "    else:\n",
    "\n",
    "        return color.group(1)\n",
    "\n",
    "def search_color_red(set_string):\n",
    "\n",
    "    rule_search = re.compile(r'([0-9]+)\\sred')\n",
    "\n",
    "    color = rule_search.search(set_string)\n",
    "\n",
    "    if color is None:\n",
    "\n",
    "        return 0\n",
    "\n",
    "    else:\n",
    "\n",
    "        return color.group(1)\n",
    "\n",
    "def search_color_green(set_string):\n",
    "\n",
    "    rule_search = re.compile(r'([0-9]+)\\sgreen')\n",
    "\n",
    "    color = rule_search.search(set_string)\n",
    "\n",
    "    if color is None:\n",
    "\n",
    "        return 0\n",
    "\n",
    "    else:\n",
    "\n",
    "        return color.group(1)"
   ]
  },
  {
   "cell_type": "code",
   "execution_count": 64,
   "metadata": {},
   "outputs": [],
   "source": [
    "raw_input_long['Blue'] = raw_input_long.value.apply(search_color_blue)\n",
    "raw_input_long['Red'] = raw_input_long.value.apply(search_color_red)\n",
    "raw_input_long['Green'] = raw_input_long.value.apply(search_color_green)"
   ]
  },
  {
   "cell_type": "code",
   "execution_count": 65,
   "metadata": {},
   "outputs": [
    {
     "name": "stderr",
     "output_type": "stream",
     "text": [
      "/tmp/ipykernel_603451/2628947315.py:1: FutureWarning: In a future version of pandas all arguments of DataFrame.drop except for the argument 'labels' will be keyword-only.\n",
      "  raw_input_long = raw_input_long.drop(['value'], 1).rename(columns={\n"
     ]
    }
   ],
   "source": [
    "raw_input_long = raw_input_long.drop(['value'], 1).rename(columns={\n",
    "    'variable': 'Set'\n",
    "})"
   ]
  },
  {
   "cell_type": "code",
   "execution_count": 66,
   "metadata": {},
   "outputs": [],
   "source": [
    "input_data = raw_input_long.melt(id_vars=['Game', 'Set'],\n",
    "                                 var_name='Color',\n",
    "                                 value_name=\"Number\")"
   ]
  },
  {
   "cell_type": "code",
   "execution_count": 67,
   "metadata": {},
   "outputs": [
    {
     "name": "stdout",
     "output_type": "stream",
     "text": [
      "<class 'pandas.core.frame.DataFrame'>\n",
      "RangeIndex: 1359 entries, 0 to 1358\n",
      "Data columns (total 4 columns):\n",
      " #   Column  Non-Null Count  Dtype \n",
      "---  ------  --------------  ----- \n",
      " 0   Game    1359 non-null   object\n",
      " 1   Set     1359 non-null   object\n",
      " 2   Color   1359 non-null   object\n",
      " 3   Number  1359 non-null   int64 \n",
      "dtypes: int64(1), object(3)\n",
      "memory usage: 42.6+ KB\n"
     ]
    }
   ],
   "source": [
    "input_data['Number'] = input_data.Number.astype(int)\n",
    "input_data.info()"
   ]
  },
  {
   "cell_type": "markdown",
   "metadata": {},
   "source": [
    "# Part 1: Check possible game"
   ]
  },
  {
   "cell_type": "code",
   "execution_count": 68,
   "metadata": {},
   "outputs": [],
   "source": [
    "constraint_df = pd.DataFrame({\n",
    "    'Color': ['Red', 'Green', 'Blue'],\n",
    "    'Limit': [12, 13, 14]\n",
    "})"
   ]
  },
  {
   "cell_type": "code",
   "execution_count": 69,
   "metadata": {},
   "outputs": [
    {
     "name": "stdout",
     "output_type": "stream",
     "text": [
      "<class 'pandas.core.frame.DataFrame'>\n",
      "RangeIndex: 3 entries, 0 to 2\n",
      "Data columns (total 2 columns):\n",
      " #   Column  Non-Null Count  Dtype \n",
      "---  ------  --------------  ----- \n",
      " 0   Color   3 non-null      object\n",
      " 1   Limit   3 non-null      int64 \n",
      "dtypes: int64(1), object(1)\n",
      "memory usage: 176.0+ bytes\n"
     ]
    }
   ],
   "source": [
    "constraint_df.info()"
   ]
  },
  {
   "cell_type": "code",
   "execution_count": 70,
   "metadata": {},
   "outputs": [],
   "source": [
    "check_df = input_data.merge(constraint_df, on='Color')\n",
    "check_df['NotPossible'] = check_df.apply(\n",
    "    lambda x: True if x.Number > x.Limit else False, axis=1\n",
    ")\n",
    "\n",
    "check_df = check_df.groupby(\n",
    "    ['Game'],\n",
    "    as_index=False\n",
    ").agg({\n",
    "    'NotPossible': 'sum'\n",
    "})\n",
    "\n",
    "possible_game = check_df.loc[check_df.NotPossible == 0]"
   ]
  },
  {
   "cell_type": "code",
   "execution_count": 71,
   "metadata": {},
   "outputs": [],
   "source": [
    "def search_game_id(string):\n",
    "\n",
    "    rule_search = re.compile(r'Game\\s(.*)')\n",
    "\n",
    "    number = rule_search.search(string)\n",
    "\n",
    "    return int(number.group(1))"
   ]
  },
  {
   "cell_type": "code",
   "execution_count": 72,
   "metadata": {},
   "outputs": [
    {
     "name": "stderr",
     "output_type": "stream",
     "text": [
      "/tmp/ipykernel_603451/3433497914.py:1: SettingWithCopyWarning: \n",
      "A value is trying to be set on a copy of a slice from a DataFrame.\n",
      "Try using .loc[row_indexer,col_indexer] = value instead\n",
      "\n",
      "See the caveats in the documentation: https://pandas.pydata.org/pandas-docs/stable/user_guide/indexing.html#returning-a-view-versus-a-copy\n",
      "  possible_game['ID'] = possible_game.Game.apply(search_game_id)\n"
     ]
    }
   ],
   "source": [
    "possible_game['ID'] = possible_game.Game.apply(search_game_id)"
   ]
  },
  {
   "cell_type": "code",
   "execution_count": 73,
   "metadata": {},
   "outputs": [
    {
     "data": {
      "text/plain": [
       "2416"
      ]
     },
     "execution_count": 73,
     "metadata": {},
     "output_type": "execute_result"
    }
   ],
   "source": [
    "possible_game.ID.sum()"
   ]
  },
  {
   "cell_type": "markdown",
   "metadata": {},
   "source": [
    "# Part 2: Minimum sets to be possible"
   ]
  },
  {
   "cell_type": "code",
   "execution_count": 74,
   "metadata": {},
   "outputs": [],
   "source": [
    "idx = input_data.groupby(['Game', 'Color'])['Number'].transform(max) == input_data['Number']"
   ]
  },
  {
   "cell_type": "code",
   "execution_count": 84,
   "metadata": {},
   "outputs": [],
   "source": [
    "minimum_df = input_data[idx].drop('Set', axis=1)\n",
    "minimum_df = minimum_df.drop_duplicates(subset=['Game', 'Color'], keep='first')"
   ]
  },
  {
   "cell_type": "code",
   "execution_count": 85,
   "metadata": {},
   "outputs": [],
   "source": [
    "minimum_df = minimum_df.pivot_table(index='Game', columns='Color', values='Number')\n",
    "minimum_df = minimum_df.assign(\n",
    "    Result = lambda x: x.Blue * x.Red * x.Green\n",
    ")"
   ]
  },
  {
   "cell_type": "code",
   "execution_count": 86,
   "metadata": {},
   "outputs": [
    {
     "data": {
      "text/plain": [
       "63307"
      ]
     },
     "execution_count": 86,
     "metadata": {},
     "output_type": "execute_result"
    }
   ],
   "source": [
    "minimum_df.Result.sum()"
   ]
  }
 ],
 "metadata": {
  "kernelspec": {
   "display_name": "ngan",
   "language": "python",
   "name": "python3"
  },
  "language_info": {
   "codemirror_mode": {
    "name": "ipython",
    "version": 3
   },
   "file_extension": ".py",
   "mimetype": "text/x-python",
   "name": "python",
   "nbconvert_exporter": "python",
   "pygments_lexer": "ipython3",
   "version": "3.10.0"
  }
 },
 "nbformat": 4,
 "nbformat_minor": 2
}

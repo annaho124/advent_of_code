{
 "cells": [
  {
   "cell_type": "code",
   "execution_count": 1,
   "metadata": {},
   "outputs": [],
   "source": [
    "import pandas as pd"
   ]
  },
  {
   "cell_type": "code",
   "execution_count": 2,
   "metadata": {},
   "outputs": [],
   "source": [
    "input = pd.read_excel(\"../DATA/Day03_PartNumbers.xlsx\")"
   ]
  },
  {
   "cell_type": "markdown",
   "metadata": {},
   "source": [
    "# Part 1"
   ]
  },
  {
   "cell_type": "code",
   "execution_count": 3,
   "metadata": {},
   "outputs": [],
   "source": [
    "data_matrix = {}\n",
    "list_position = []\n",
    "if_integer = []\n",
    "list_number = ['1', '2', '3', '4', '5', '6', '7', '8', '9', '0']\n",
    "number_position = {\n",
    "    'row': [],\n",
    "    'column': [],\n",
    "    'value': []}\n",
    "\n",
    "number_position_with_index = {\n",
    "    'row': [],\n",
    "    'column': [],\n",
    "    'value': [],\n",
    "    'n_index': []\n",
    "}\n",
    "# length = len(input)"
   ]
  },
  {
   "cell_type": "code",
   "execution_count": 4,
   "metadata": {},
   "outputs": [],
   "source": [
    "for a in range(len(input)):\n",
    "\n",
    "    string = input.Line[a]\n",
    "\n",
    "    for b in range(len(string)):\n",
    "\n",
    "        position = str(a) + \",\" + str(b)\n",
    "\n",
    "        value = string[b:b+1]\n",
    "        data_matrix[position] = value\n",
    "        # list_position.append(position)\n",
    "\n",
    "        if value in list_number:\n",
    "\n",
    "            number = int(value)\n",
    "            \n",
    "            number_position['row'].append(a)\n",
    "            number_position['column'].append(b)\n",
    "            number_position['value'].append(number)\n",
    "\n",
    "        "
   ]
  },
  {
   "cell_type": "code",
   "execution_count": 5,
   "metadata": {},
   "outputs": [],
   "source": [
    "number_position_df = pd.DataFrame(number_position)\n",
    "# number_position_df.info()"
   ]
  },
  {
   "cell_type": "code",
   "execution_count": 6,
   "metadata": {},
   "outputs": [],
   "source": [
    "list_number_each_row = {\n",
    "    'position': []\n",
    "}"
   ]
  },
  {
   "cell_type": "code",
   "execution_count": 28,
   "metadata": {},
   "outputs": [],
   "source": [
    "n_index = 1\n",
    "for a in range(len(input)):\n",
    "\n",
    "    check_df = number_position_df[number_position_df.row == a]\n",
    "\n",
    "    list_column = check_df.column.tolist()\n",
    "    \n",
    "\n",
    "    for start in list_column:\n",
    "\n",
    "        # list_column.remove(start)\n",
    "        end = start\n",
    "\n",
    "        # print(check_df[check_df.column == end + 1].column)\n",
    "\n",
    "        # if check_df[check_df.columns == end + 1].columns == end + 1:\n",
    "\n",
    "        #     number_position_df['n_index'].append(n_index)\n",
    "\n",
    "        while end + 1 in list_column:\n",
    "\n",
    "            end = end + 1\n",
    "            list_column.remove(end)\n",
    "            number_position_with_index['n_index'].append(n_index)\n",
    "            continue\n",
    "        \n",
    "        number_position_with_index['n_index'].append(n_index)\n",
    "\n",
    "        n_index = n_index + 1\n",
    "\n",
    "    list_number_each_row['position'].append(str(a) + \" : \" + str(start) + \", \" + str(end))"
   ]
  },
  {
   "cell_type": "code",
   "execution_count": 29,
   "metadata": {},
   "outputs": [],
   "source": [
    "number_position_with_index['row'] = number_position['row']\n",
    "number_position_with_index['column'] = number_position['column']\n",
    "number_position_with_index['value'] = number_position['value']\n"
   ]
  },
  {
   "cell_type": "code",
   "execution_count": 30,
   "metadata": {},
   "outputs": [
    {
     "ename": "ValueError",
     "evalue": "All arrays must be of the same length",
     "output_type": "error",
     "traceback": [
      "\u001b[0;31m---------------------------------------------------------------------------\u001b[0m",
      "\u001b[0;31mValueError\u001b[0m                                Traceback (most recent call last)",
      "\u001b[1;32m/home/nganho/Working/advent_of_code/2023/Code/Day03_PartNumbers.ipynb Cell 10\u001b[0m line \u001b[0;36m1\n\u001b[0;32m----> <a href='vscode-notebook-cell://ssh-remote%2Bnganho_bmw_tailscale/home/nganho/Working/advent_of_code/2023/Code/Day03_PartNumbers.ipynb#X44sdnNjb2RlLXJlbW90ZQ%3D%3D?line=0'>1</a>\u001b[0m number_position_with_index_df \u001b[39m=\u001b[39m pd\u001b[39m.\u001b[39;49mDataFrame(number_position_with_index)\n",
      "File \u001b[0;32m~/miniconda3/envs/ngan/lib/python3.10/site-packages/pandas/core/frame.py:636\u001b[0m, in \u001b[0;36mDataFrame.__init__\u001b[0;34m(self, data, index, columns, dtype, copy)\u001b[0m\n\u001b[1;32m    630\u001b[0m     mgr \u001b[39m=\u001b[39m \u001b[39mself\u001b[39m\u001b[39m.\u001b[39m_init_mgr(\n\u001b[1;32m    631\u001b[0m         data, axes\u001b[39m=\u001b[39m{\u001b[39m\"\u001b[39m\u001b[39mindex\u001b[39m\u001b[39m\"\u001b[39m: index, \u001b[39m\"\u001b[39m\u001b[39mcolumns\u001b[39m\u001b[39m\"\u001b[39m: columns}, dtype\u001b[39m=\u001b[39mdtype, copy\u001b[39m=\u001b[39mcopy\n\u001b[1;32m    632\u001b[0m     )\n\u001b[1;32m    634\u001b[0m \u001b[39melif\u001b[39;00m \u001b[39misinstance\u001b[39m(data, \u001b[39mdict\u001b[39m):\n\u001b[1;32m    635\u001b[0m     \u001b[39m# GH#38939 de facto copy defaults to False only in non-dict cases\u001b[39;00m\n\u001b[0;32m--> 636\u001b[0m     mgr \u001b[39m=\u001b[39m dict_to_mgr(data, index, columns, dtype\u001b[39m=\u001b[39;49mdtype, copy\u001b[39m=\u001b[39;49mcopy, typ\u001b[39m=\u001b[39;49mmanager)\n\u001b[1;32m    637\u001b[0m \u001b[39melif\u001b[39;00m \u001b[39misinstance\u001b[39m(data, ma\u001b[39m.\u001b[39mMaskedArray):\n\u001b[1;32m    638\u001b[0m     \u001b[39mimport\u001b[39;00m \u001b[39mnumpy\u001b[39;00m\u001b[39m.\u001b[39;00m\u001b[39mma\u001b[39;00m\u001b[39m.\u001b[39;00m\u001b[39mmrecords\u001b[39;00m \u001b[39mas\u001b[39;00m \u001b[39mmrecords\u001b[39;00m\n",
      "File \u001b[0;32m~/miniconda3/envs/ngan/lib/python3.10/site-packages/pandas/core/internals/construction.py:502\u001b[0m, in \u001b[0;36mdict_to_mgr\u001b[0;34m(data, index, columns, dtype, typ, copy)\u001b[0m\n\u001b[1;32m    494\u001b[0m     arrays \u001b[39m=\u001b[39m [\n\u001b[1;32m    495\u001b[0m         x\n\u001b[1;32m    496\u001b[0m         \u001b[39mif\u001b[39;00m \u001b[39mnot\u001b[39;00m \u001b[39mhasattr\u001b[39m(x, \u001b[39m\"\u001b[39m\u001b[39mdtype\u001b[39m\u001b[39m\"\u001b[39m) \u001b[39mor\u001b[39;00m \u001b[39mnot\u001b[39;00m \u001b[39misinstance\u001b[39m(x\u001b[39m.\u001b[39mdtype, ExtensionDtype)\n\u001b[1;32m    497\u001b[0m         \u001b[39melse\u001b[39;00m x\u001b[39m.\u001b[39mcopy()\n\u001b[1;32m    498\u001b[0m         \u001b[39mfor\u001b[39;00m x \u001b[39min\u001b[39;00m arrays\n\u001b[1;32m    499\u001b[0m     ]\n\u001b[1;32m    500\u001b[0m     \u001b[39m# TODO: can we get rid of the dt64tz special case above?\u001b[39;00m\n\u001b[0;32m--> 502\u001b[0m \u001b[39mreturn\u001b[39;00m arrays_to_mgr(arrays, columns, index, dtype\u001b[39m=\u001b[39;49mdtype, typ\u001b[39m=\u001b[39;49mtyp, consolidate\u001b[39m=\u001b[39;49mcopy)\n",
      "File \u001b[0;32m~/miniconda3/envs/ngan/lib/python3.10/site-packages/pandas/core/internals/construction.py:120\u001b[0m, in \u001b[0;36marrays_to_mgr\u001b[0;34m(arrays, columns, index, dtype, verify_integrity, typ, consolidate)\u001b[0m\n\u001b[1;32m    117\u001b[0m \u001b[39mif\u001b[39;00m verify_integrity:\n\u001b[1;32m    118\u001b[0m     \u001b[39m# figure out the index, if necessary\u001b[39;00m\n\u001b[1;32m    119\u001b[0m     \u001b[39mif\u001b[39;00m index \u001b[39mis\u001b[39;00m \u001b[39mNone\u001b[39;00m:\n\u001b[0;32m--> 120\u001b[0m         index \u001b[39m=\u001b[39m _extract_index(arrays)\n\u001b[1;32m    121\u001b[0m     \u001b[39melse\u001b[39;00m:\n\u001b[1;32m    122\u001b[0m         index \u001b[39m=\u001b[39m ensure_index(index)\n",
      "File \u001b[0;32m~/miniconda3/envs/ngan/lib/python3.10/site-packages/pandas/core/internals/construction.py:674\u001b[0m, in \u001b[0;36m_extract_index\u001b[0;34m(data)\u001b[0m\n\u001b[1;32m    672\u001b[0m lengths \u001b[39m=\u001b[39m \u001b[39mlist\u001b[39m(\u001b[39mset\u001b[39m(raw_lengths))\n\u001b[1;32m    673\u001b[0m \u001b[39mif\u001b[39;00m \u001b[39mlen\u001b[39m(lengths) \u001b[39m>\u001b[39m \u001b[39m1\u001b[39m:\n\u001b[0;32m--> 674\u001b[0m     \u001b[39mraise\u001b[39;00m \u001b[39mValueError\u001b[39;00m(\u001b[39m\"\u001b[39m\u001b[39mAll arrays must be of the same length\u001b[39m\u001b[39m\"\u001b[39m)\n\u001b[1;32m    676\u001b[0m \u001b[39mif\u001b[39;00m have_dicts:\n\u001b[1;32m    677\u001b[0m     \u001b[39mraise\u001b[39;00m \u001b[39mValueError\u001b[39;00m(\n\u001b[1;32m    678\u001b[0m         \u001b[39m\"\u001b[39m\u001b[39mMixing dicts with non-Series may lead to ambiguous ordering.\u001b[39m\u001b[39m\"\u001b[39m\n\u001b[1;32m    679\u001b[0m     )\n",
      "\u001b[0;31mValueError\u001b[0m: All arrays must be of the same length"
     ]
    }
   ],
   "source": [
    "number_position_with_index_df = pd.DataFrame(number_position_with_index)"
   ]
  },
  {
   "cell_type": "code",
   "execution_count": 8,
   "metadata": {},
   "outputs": [],
   "source": [
    "list_number_each_row_df = pd.DataFrame(list_number_each_row)"
   ]
  },
  {
   "cell_type": "code",
   "execution_count": 9,
   "metadata": {},
   "outputs": [],
   "source": [
    "list_number_each_row_df[['row', 'column']] = list_number_each_row_df['position'].str.split(\" : \", n = 1, expand=True)\n",
    "list_number_each_row_df[['start', 'end']] = list_number_each_row_df['column'].str.split(\", \", n = 1, expand=True)"
   ]
  },
  {
   "cell_type": "code",
   "execution_count": 10,
   "metadata": {},
   "outputs": [],
   "source": [
    "list_number_each_row_df = list_number_each_row_df.drop(columns=['position', 'column'])"
   ]
  },
  {
   "cell_type": "code",
   "execution_count": 11,
   "metadata": {},
   "outputs": [],
   "source": [
    "def CheckNumber(row,\n",
    "                start,\n",
    "                end):\n",
    "    \n",
    "    if row != 0:\n",
    "\n",
    "        row_above = row - 1\n",
    "\n",
    "    else:\n",
    "\n",
    "        row_above = row\n",
    "    \n",
    "    if row != 139:\n",
    "\n",
    "        row_below = row + 1\n",
    "\n",
    "    else:\n",
    "\n",
    "        row_below = row\n",
    "        \n",
    "    if start != 0:\n",
    "\n",
    "        column_begin = start - 1\n",
    "    else:\n",
    "\n",
    "        column_begin = start\n",
    "    if end != 139:\n",
    "\n",
    "        column_end = end + 1\n",
    "    else:\n",
    "        column_end = end\n",
    "        \n",
    "    list_position_to_check = []\n",
    "    list_value_to_check = []\n",
    "\n",
    "    for x in range(row_above, row_below + 1):\n",
    "\n",
    "        for y in range(column_begin, column_end + 1):\n",
    "\n",
    "            position = str(x) + \",\" + str(y)\n",
    "            list_position_to_check.append(position)\n",
    "\n",
    "    for y in range(start, end + 1):\n",
    "\n",
    "        position_remove = str(row) + \",\" + str(y)\n",
    "        list_position_to_check.remove(position_remove)\n",
    "\n",
    "    for keys in list_position_to_check:\n",
    "\n",
    "        list_value_to_check.append(data_matrix[keys])\n",
    "\n",
    "    point = 0\n",
    "    for values in list_value_to_check:\n",
    "\n",
    "        if values == \".\":\n",
    "\n",
    "            point = point + 1\n",
    "\n",
    "    if point == len(list_value_to_check):\n",
    "\n",
    "            # print(\"Not part numbers\")\n",
    "\n",
    "        return 0\n",
    "\n",
    "    else:\n",
    "\n",
    "        # print(\"Part numbers\")\n",
    "        number = \"\"\n",
    "\n",
    "        for extract in range(start, end + 1):\n",
    "\n",
    "            position = str(row) + \",\" + str(extract)\n",
    "            number = number + data_matrix[position]\n",
    "\n",
    "        number = int(number)\n",
    "        # print(\"Part number is:\", number)\n",
    "        \n",
    "        return number"
   ]
  },
  {
   "cell_type": "code",
   "execution_count": 12,
   "metadata": {},
   "outputs": [],
   "source": [
    "list_number_each_row_df['start'] = list_number_each_row_df.start.astype(int)\n",
    "list_number_each_row_df['end'] = list_number_each_row_df.end.astype(int)\n",
    "list_number_each_row_df['row'] = list_number_each_row_df.row.astype(int)"
   ]
  },
  {
   "cell_type": "code",
   "execution_count": 13,
   "metadata": {},
   "outputs": [
    {
     "name": "stdout",
     "output_type": "stream",
     "text": [
      "<class 'pandas.core.frame.DataFrame'>\n",
      "RangeIndex: 1212 entries, 0 to 1211\n",
      "Data columns (total 3 columns):\n",
      " #   Column  Non-Null Count  Dtype\n",
      "---  ------  --------------  -----\n",
      " 0   row     1212 non-null   int64\n",
      " 1   start   1212 non-null   int64\n",
      " 2   end     1212 non-null   int64\n",
      "dtypes: int64(3)\n",
      "memory usage: 28.5 KB\n"
     ]
    }
   ],
   "source": [
    "list_number_each_row_df.info()"
   ]
  },
  {
   "cell_type": "code",
   "execution_count": 14,
   "metadata": {},
   "outputs": [
    {
     "data": {
      "text/plain": [
       "0"
      ]
     },
     "execution_count": 14,
     "metadata": {},
     "output_type": "execute_result"
    }
   ],
   "source": [
    "CheckNumber(row = 0,\n",
    "            start= 71,\n",
    "            end= 71)"
   ]
  },
  {
   "cell_type": "code",
   "execution_count": 15,
   "metadata": {},
   "outputs": [],
   "source": [
    "total_number = 0\n",
    "\n",
    "for index, row in list_number_each_row_df.iterrows():\n",
    "\n",
    "    n_row = row['row']\n",
    "\n",
    "    number = CheckNumber(row = row['row'],\n",
    "                         start = row['start'],\n",
    "                         end = row['end'])\n",
    "    \n",
    "    total_number = total_number + number"
   ]
  },
  {
   "cell_type": "code",
   "execution_count": 16,
   "metadata": {},
   "outputs": [
    {
     "data": {
      "text/plain": [
       "509115"
      ]
     },
     "execution_count": 16,
     "metadata": {},
     "output_type": "execute_result"
    }
   ],
   "source": [
    "total_number"
   ]
  },
  {
   "cell_type": "code",
   "execution_count": 17,
   "metadata": {},
   "outputs": [
    {
     "data": {
      "text/plain": [
       "int"
      ]
     },
     "execution_count": 17,
     "metadata": {},
     "output_type": "execute_result"
    }
   ],
   "source": [
    "type(number)"
   ]
  },
  {
   "cell_type": "markdown",
   "metadata": {},
   "source": [
    "# Part 2"
   ]
  },
  {
   "cell_type": "code",
   "execution_count": 18,
   "metadata": {},
   "outputs": [],
   "source": [
    "star = \"*\"\n",
    "list_number = ['1', '2', '3', '4', '5', '6', '7', '8', '9', '0']\n",
    "star_position = {\n",
    "    'row': [],\n",
    "    'column': [],\n",
    "    # 'value': []\n",
    "}"
   ]
  },
  {
   "cell_type": "code",
   "execution_count": 19,
   "metadata": {},
   "outputs": [],
   "source": [
    "for a in range(len(input)):\n",
    "\n",
    "    string = input.Line[a]\n",
    "\n",
    "    for b in range(len(string)):\n",
    "\n",
    "        position = str(a) + \",\" + str(b)\n",
    "\n",
    "        value = string[b:b+1]\n",
    "\n",
    "        if value == star:\n",
    "\n",
    "            # number = int(value)\n",
    "            \n",
    "            star_position['row'].append(a)\n",
    "            star_position['column'].append(b)\n",
    "            # number_position['value'].append(number)       "
   ]
  },
  {
   "cell_type": "code",
   "execution_count": 20,
   "metadata": {},
   "outputs": [],
   "source": [
    "star_position_df = pd.DataFrame(star_position)"
   ]
  },
  {
   "cell_type": "code",
   "execution_count": 21,
   "metadata": {},
   "outputs": [],
   "source": [
    "def CheckNumberBesideStar(row,\n",
    "                          column):\n",
    "    \n",
    "    if row != 0:\n",
    "\n",
    "        row_above = row - 1\n",
    "\n",
    "    else:\n",
    "\n",
    "        row_above = row\n",
    "    \n",
    "    if row != 139:\n",
    "\n",
    "        row_below = row + 1\n",
    "\n",
    "    else:\n",
    "\n",
    "        row_below = row\n",
    "        \n",
    "    if column != 0:\n",
    "\n",
    "        column_begin = column - 1\n",
    "        \n",
    "    else:\n",
    "\n",
    "        column_begin = column\n",
    "\n",
    "    if column != 139:\n",
    "\n",
    "        column_end = column + 1\n",
    "\n",
    "    else:\n",
    "\n",
    "        column_end = column\n",
    "\n",
    "    list_position_to_check = []\n",
    "    list_value_to_check = []\n",
    "\n",
    "    for x in range(row_above, row_below + 1):\n",
    "\n",
    "        for y in range(column_begin, column_end + 1):\n",
    "\n",
    "            position = str(x) + \",\" + str(y)\n",
    "            list_position_to_check.append(position)\n",
    "    \n",
    "            # print(position)\n",
    "\n",
    "    position_remove = str(row) + \",\" + str(column)\n",
    "    list_position_to_check.remove(position_remove)\n",
    "    \n",
    "    list_position_to_check_after = []\n",
    "\n",
    "    for keys in list_position_to_check:\n",
    "\n",
    "        value = data_matrix[keys]\n",
    "\n",
    "        if value in list_number:\n",
    "\n",
    "            list_value_to_check.append(value)\n",
    "            list_position_to_check_after.append(keys)\n",
    "    \n",
    "    return list_position_to_check_after"
   ]
  },
  {
   "cell_type": "code",
   "execution_count": 22,
   "metadata": {},
   "outputs": [],
   "source": [
    "abc = CheckNumberBesideStar(row=1,\n",
    "                    column=6)"
   ]
  },
  {
   "cell_type": "code",
   "execution_count": 23,
   "metadata": {},
   "outputs": [],
   "source": [
    "list_position_to_check_after_df = pd.DataFrame(abc,\n",
    "                                               columns=['Position'])\n",
    "list_position_to_check_after_df[['row', 'column']] = list_position_to_check_after_df['Position'].str.split(\",\", n = 1, expand=True)"
   ]
  },
  {
   "cell_type": "code",
   "execution_count": 26,
   "metadata": {},
   "outputs": [],
   "source": [
    "list_position_to_check_after_df = list_position_to_check_after_df[['row', 'column']]\n",
    "list_position_to_check_after_df['row'] = list_position_to_check_after_df.row.astype(int)\n",
    "list_position_to_check_after_df['column'] = list_position_to_check_after_df.column.astype(int)"
   ]
  },
  {
   "cell_type": "code",
   "execution_count": 29,
   "metadata": {},
   "outputs": [
    {
     "data": {
      "text/html": [
       "<div>\n",
       "<style scoped>\n",
       "    .dataframe tbody tr th:only-of-type {\n",
       "        vertical-align: middle;\n",
       "    }\n",
       "\n",
       "    .dataframe tbody tr th {\n",
       "        vertical-align: top;\n",
       "    }\n",
       "\n",
       "    .dataframe thead th {\n",
       "        text-align: right;\n",
       "    }\n",
       "</style>\n",
       "<table border=\"1\" class=\"dataframe\">\n",
       "  <thead>\n",
       "    <tr style=\"text-align: right;\">\n",
       "      <th></th>\n",
       "      <th>row</th>\n",
       "      <th>column</th>\n",
       "      <th>value</th>\n",
       "    </tr>\n",
       "  </thead>\n",
       "  <tbody>\n",
       "    <tr>\n",
       "      <th>0</th>\n",
       "      <td>0</td>\n",
       "      <td>5</td>\n",
       "      <td>6</td>\n",
       "    </tr>\n",
       "    <tr>\n",
       "      <th>1</th>\n",
       "      <td>0</td>\n",
       "      <td>6</td>\n",
       "      <td>6</td>\n",
       "    </tr>\n",
       "    <tr>\n",
       "      <th>2</th>\n",
       "      <td>0</td>\n",
       "      <td>7</td>\n",
       "      <td>4</td>\n",
       "    </tr>\n",
       "    <tr>\n",
       "      <th>3</th>\n",
       "      <td>2</td>\n",
       "      <td>5</td>\n",
       "      <td>7</td>\n",
       "    </tr>\n",
       "  </tbody>\n",
       "</table>\n",
       "</div>"
      ],
      "text/plain": [
       "   row  column  value\n",
       "0    0       5      6\n",
       "1    0       6      6\n",
       "2    0       7      4\n",
       "3    2       5      7"
      ]
     },
     "execution_count": 29,
     "metadata": {},
     "output_type": "execute_result"
    }
   ],
   "source": []
  }
 ],
 "metadata": {
  "kernelspec": {
   "display_name": "ngan",
   "language": "python",
   "name": "python3"
  },
  "language_info": {
   "codemirror_mode": {
    "name": "ipython",
    "version": 3
   },
   "file_extension": ".py",
   "mimetype": "text/x-python",
   "name": "python",
   "nbconvert_exporter": "python",
   "pygments_lexer": "ipython3",
   "version": "3.10.0"
  }
 },
 "nbformat": 4,
 "nbformat_minor": 2
}

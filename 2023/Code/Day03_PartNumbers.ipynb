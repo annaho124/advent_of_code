{
 "cells": [
  {
   "cell_type": "code",
   "execution_count": 1,
   "metadata": {},
   "outputs": [],
   "source": [
    "import pandas as pd"
   ]
  },
  {
   "cell_type": "code",
   "execution_count": 2,
   "metadata": {},
   "outputs": [],
   "source": [
    "input = pd.read_excel(\"../DATA/Day03_PartNumbers.xlsx\")"
   ]
  },
  {
   "cell_type": "markdown",
   "metadata": {},
   "source": [
    "# Part 1"
   ]
  },
  {
   "cell_type": "code",
   "execution_count": 3,
   "metadata": {},
   "outputs": [],
   "source": [
    "data_matrix = {}\n",
    "list_position = []\n",
    "if_integer = []\n",
    "list_number = ['1', '2', '3', '4', '5', '6', '7', '8', '9', '0']\n",
    "number_position = {\n",
    "    'row': [],\n",
    "    'column': [],\n",
    "    'value': []}\n",
    "\n",
    "number_position_with_index = {\n",
    "    'row': [],\n",
    "    'column': [],\n",
    "    'value': [],\n",
    "    'n_index': []\n",
    "}\n",
    "# length = len(input)"
   ]
  },
  {
   "cell_type": "code",
   "execution_count": 4,
   "metadata": {},
   "outputs": [],
   "source": [
    "for a in range(len(input)):\n",
    "\n",
    "    string = input.Line[a]\n",
    "\n",
    "    for b in range(len(string)):\n",
    "\n",
    "        position = str(a) + \",\" + str(b)\n",
    "\n",
    "        value = string[b:b+1]\n",
    "        data_matrix[position] = value\n",
    "        # list_position.append(position)\n",
    "\n",
    "        if value in list_number:\n",
    "\n",
    "            number = int(value)\n",
    "            \n",
    "            number_position['row'].append(a)\n",
    "            number_position['column'].append(b)\n",
    "            number_position['value'].append(number)\n",
    "\n",
    "        "
   ]
  },
  {
   "cell_type": "code",
   "execution_count": 5,
   "metadata": {},
   "outputs": [],
   "source": [
    "number_position_df = pd.DataFrame(number_position)\n",
    "# number_position_df.info()"
   ]
  },
  {
   "cell_type": "code",
   "execution_count": 6,
   "metadata": {},
   "outputs": [],
   "source": [
    "list_number_each_row = {\n",
    "    'position': []\n",
    "}"
   ]
  },
  {
   "cell_type": "code",
   "execution_count": 7,
   "metadata": {},
   "outputs": [],
   "source": [
    "n_index = 1\n",
    "for a in range(len(input)):\n",
    "\n",
    "    check_df = number_position_df[number_position_df.row == a]\n",
    "\n",
    "    list_column = check_df.column.tolist()\n",
    "    \n",
    "    for start in list_column:\n",
    "\n",
    "        end = start\n",
    "\n",
    "        while end + 1 in list_column:\n",
    "\n",
    "            end = end + 1\n",
    "            list_column.remove(end)\n",
    "            number_position_with_index['n_index'].append(n_index)\n",
    "            continue\n",
    "\n",
    "        number_position_with_index['n_index'].append(n_index)\n",
    "\n",
    "        n_index = n_index + 1\n",
    "\n",
    "    list_number_each_row['position'].append(str(a) + \" : \" + str(start) + \", \" + str(end))"
   ]
  },
  {
   "cell_type": "code",
   "execution_count": 8,
   "metadata": {},
   "outputs": [],
   "source": [
    "number_position_with_index['row'] = number_position['row']\n",
    "number_position_with_index['column'] = number_position['column']\n",
    "number_position_with_index['value'] = number_position['value']"
   ]
  },
  {
   "cell_type": "code",
   "execution_count": 9,
   "metadata": {},
   "outputs": [],
   "source": [
    "number_position_with_index_df = pd.DataFrame(number_position_with_index)"
   ]
  },
  {
   "cell_type": "code",
   "execution_count": 10,
   "metadata": {},
   "outputs": [],
   "source": [
    "list_number_each_row_df = pd.DataFrame(list_number_each_row)"
   ]
  },
  {
   "cell_type": "code",
   "execution_count": 11,
   "metadata": {},
   "outputs": [],
   "source": [
    "list_number_each_row_df[['row', 'column']] = list_number_each_row_df['position'].str.split(\" : \", n = 1, expand=True)\n",
    "list_number_each_row_df[['start', 'end']] = list_number_each_row_df['column'].str.split(\", \", n = 1, expand=True)"
   ]
  },
  {
   "cell_type": "code",
   "execution_count": 12,
   "metadata": {},
   "outputs": [],
   "source": [
    "list_number_each_row_df = list_number_each_row_df.drop(columns=['position', 'column'])"
   ]
  },
  {
   "cell_type": "code",
   "execution_count": 13,
   "metadata": {},
   "outputs": [],
   "source": [
    "def CheckNumber(row,\n",
    "                start,\n",
    "                end):\n",
    "    \n",
    "    if row != 0:\n",
    "\n",
    "        row_above = row - 1\n",
    "\n",
    "    else:\n",
    "\n",
    "        row_above = row\n",
    "    \n",
    "    if row != 139:\n",
    "\n",
    "        row_below = row + 1\n",
    "\n",
    "    else:\n",
    "\n",
    "        row_below = row\n",
    "        \n",
    "    if start != 0:\n",
    "\n",
    "        column_begin = start - 1\n",
    "    else:\n",
    "\n",
    "        column_begin = start\n",
    "    if end != 139:\n",
    "\n",
    "        column_end = end + 1\n",
    "    else:\n",
    "        column_end = end\n",
    "        \n",
    "    list_position_to_check = []\n",
    "    list_value_to_check = []\n",
    "\n",
    "    for x in range(row_above, row_below + 1):\n",
    "\n",
    "        for y in range(column_begin, column_end + 1):\n",
    "\n",
    "            position = str(x) + \",\" + str(y)\n",
    "            list_position_to_check.append(position)\n",
    "\n",
    "    for y in range(start, end + 1):\n",
    "\n",
    "        position_remove = str(row) + \",\" + str(y)\n",
    "        list_position_to_check.remove(position_remove)\n",
    "\n",
    "    for keys in list_position_to_check:\n",
    "\n",
    "        list_value_to_check.append(data_matrix[keys])\n",
    "\n",
    "    point = 0\n",
    "    for values in list_value_to_check:\n",
    "\n",
    "        if values == \".\":\n",
    "\n",
    "            point = point + 1\n",
    "\n",
    "    if point == len(list_value_to_check):\n",
    "\n",
    "            # print(\"Not part numbers\")\n",
    "\n",
    "        return 0\n",
    "\n",
    "    else:\n",
    "\n",
    "        # print(\"Part numbers\")\n",
    "        number = \"\"\n",
    "\n",
    "        for extract in range(start, end + 1):\n",
    "\n",
    "            position = str(row) + \",\" + str(extract)\n",
    "            number = number + data_matrix[position]\n",
    "\n",
    "        number = int(number)\n",
    "        # print(\"Part number is:\", number)\n",
    "        \n",
    "        return number"
   ]
  },
  {
   "cell_type": "code",
   "execution_count": 14,
   "metadata": {},
   "outputs": [],
   "source": [
    "list_number_each_row_df['start'] = list_number_each_row_df.start.astype(int)\n",
    "list_number_each_row_df['end'] = list_number_each_row_df.end.astype(int)\n",
    "list_number_each_row_df['row'] = list_number_each_row_df.row.astype(int)"
   ]
  },
  {
   "cell_type": "code",
   "execution_count": 15,
   "metadata": {},
   "outputs": [
    {
     "name": "stdout",
     "output_type": "stream",
     "text": [
      "<class 'pandas.core.frame.DataFrame'>\n",
      "RangeIndex: 140 entries, 0 to 139\n",
      "Data columns (total 3 columns):\n",
      " #   Column  Non-Null Count  Dtype\n",
      "---  ------  --------------  -----\n",
      " 0   row     140 non-null    int64\n",
      " 1   start   140 non-null    int64\n",
      " 2   end     140 non-null    int64\n",
      "dtypes: int64(3)\n",
      "memory usage: 3.4 KB\n"
     ]
    }
   ],
   "source": [
    "list_number_each_row_df.info()"
   ]
  },
  {
   "cell_type": "code",
   "execution_count": 16,
   "metadata": {},
   "outputs": [
    {
     "data": {
      "text/plain": [
       "0"
      ]
     },
     "execution_count": 16,
     "metadata": {},
     "output_type": "execute_result"
    }
   ],
   "source": [
    "CheckNumber(row = 0,\n",
    "            start= 71,\n",
    "            end= 71)"
   ]
  },
  {
   "cell_type": "code",
   "execution_count": 17,
   "metadata": {},
   "outputs": [],
   "source": [
    "total_number = 0\n",
    "\n",
    "for index, row in list_number_each_row_df.iterrows():\n",
    "\n",
    "    n_row = row['row']\n",
    "\n",
    "    number = CheckNumber(row = row['row'],\n",
    "                         start = row['start'],\n",
    "                         end = row['end'])\n",
    "    \n",
    "    total_number = total_number + number"
   ]
  },
  {
   "cell_type": "code",
   "execution_count": 18,
   "metadata": {},
   "outputs": [
    {
     "data": {
      "text/plain": [
       "63108"
      ]
     },
     "execution_count": 18,
     "metadata": {},
     "output_type": "execute_result"
    }
   ],
   "source": [
    "total_number"
   ]
  },
  {
   "cell_type": "code",
   "execution_count": 19,
   "metadata": {},
   "outputs": [
    {
     "data": {
      "text/plain": [
       "int"
      ]
     },
     "execution_count": 19,
     "metadata": {},
     "output_type": "execute_result"
    }
   ],
   "source": [
    "type(number)"
   ]
  },
  {
   "cell_type": "markdown",
   "metadata": {},
   "source": [
    "# Part 2"
   ]
  },
  {
   "cell_type": "code",
   "execution_count": 20,
   "metadata": {},
   "outputs": [],
   "source": [
    "star = \"*\"\n",
    "list_number = ['1', '2', '3', '4', '5', '6', '7', '8', '9', '0']\n",
    "star_position = {\n",
    "    'row': [],\n",
    "    'column': [],\n",
    "    # 'value': []\n",
    "}"
   ]
  },
  {
   "cell_type": "code",
   "execution_count": 21,
   "metadata": {},
   "outputs": [],
   "source": [
    "for a in range(len(input)):\n",
    "\n",
    "    string = input.Line[a]\n",
    "\n",
    "    for b in range(len(string)):\n",
    "\n",
    "        position = str(a) + \",\" + str(b)\n",
    "\n",
    "        value = string[b:b+1]\n",
    "\n",
    "        if value == star:\n",
    "\n",
    "            # number = int(value)\n",
    "            \n",
    "            star_position['row'].append(a)\n",
    "            star_position['column'].append(b)\n",
    "            # number_position['value'].append(number)       "
   ]
  },
  {
   "cell_type": "code",
   "execution_count": 22,
   "metadata": {},
   "outputs": [],
   "source": [
    "star_position_df = pd.DataFrame(star_position)"
   ]
  },
  {
   "cell_type": "code",
   "execution_count": 63,
   "metadata": {},
   "outputs": [],
   "source": [
    "def CheckNumberBesideStar(row,\n",
    "                          column):\n",
    "    \n",
    "    if row != 0:\n",
    "\n",
    "        row_above = row - 1\n",
    "\n",
    "    else:\n",
    "\n",
    "        row_above = row\n",
    "    \n",
    "    if row != 139:\n",
    "\n",
    "        row_below = row + 1\n",
    "\n",
    "    else:\n",
    "\n",
    "        row_below = row\n",
    "        \n",
    "    if column != 0:\n",
    "\n",
    "        column_begin = column - 1\n",
    "        \n",
    "    else:\n",
    "\n",
    "        column_begin = column\n",
    "\n",
    "    if column != 139:\n",
    "\n",
    "        column_end = column + 1\n",
    "\n",
    "    else:\n",
    "\n",
    "        column_end = column\n",
    "\n",
    "    list_position_to_check = []\n",
    "    list_value_to_check = []\n",
    "\n",
    "    for x in range(row_above, row_below + 1):\n",
    "\n",
    "        for y in range(column_begin, column_end + 1):\n",
    "\n",
    "            position = str(x) + \",\" + str(y)\n",
    "            list_position_to_check.append(position)\n",
    "    \n",
    "            # print(position)\n",
    "\n",
    "    position_remove = str(row) + \",\" + str(column)\n",
    "    list_position_to_check.remove(position_remove)\n",
    "    \n",
    "    list_position_to_check_after = []\n",
    "\n",
    "    for keys in list_position_to_check:\n",
    "\n",
    "        value = data_matrix[keys]\n",
    "\n",
    "        if value in list_number:\n",
    "\n",
    "            list_value_to_check.append(value)\n",
    "            list_position_to_check_after.append(keys)\n",
    "\n",
    "    list_position_to_check_after_df = pd.DataFrame(list_position_to_check_after,\n",
    "                                                   columns=['Position'])\n",
    "    \n",
    "    list_position_to_check_after_df[['row', 'column']] = list_position_to_check_after_df['Position'].str.split(\",\", n = 1, expand=True)\n",
    "    \n",
    "    list_position_to_check_after_df = list_position_to_check_after_df[['row', 'column']]\n",
    "    list_position_to_check_after_df['row'] = list_position_to_check_after_df.row.astype(int)\n",
    "    list_position_to_check_after_df['column'] = list_position_to_check_after_df.column.astype(int)\n",
    "\n",
    "    number_around = list_position_to_check_after_df.merge(number_position_with_index_df, on= ['row', 'column'])\n",
    "\n",
    "    all_number = number_around.n_index.unique().tolist()\n",
    "\n",
    "    if len(all_number) > 1:\n",
    "\n",
    "        number_df = number_position_with_index_df[number_position_with_index_df.n_index.isin(all_number)]\n",
    "\n",
    "        # row_position = number_df.row.unique().tolist()\n",
    "        # column_position = number_df.column.unique().tolist()\n",
    "        n_number = number_around.n_index.unique().tolist()\n",
    "        multiply = 1\n",
    "\n",
    "        for n_index in n_number:\n",
    "\n",
    "            index = 0\n",
    "\n",
    "            df_extract = number_df[number_df.n_index == n_index].reset_index()\n",
    "\n",
    "        # print(df_extract)\n",
    "\n",
    "            column_positions = df_extract.column.tolist()\n",
    "            number = \"\"\n",
    "        \n",
    "            for n in column_positions:\n",
    "\n",
    "            \n",
    "                value = df_extract[df_extract.column == n].value[index]\n",
    "\n",
    "            # print(\"Value is\", value)\n",
    "\n",
    "                number = number + str(value)\n",
    "                index = index + 1\n",
    "\n",
    "            multiply = multiply*int(number)\n",
    "\n",
    "        return multiply\n",
    "    \n",
    "    else:\n",
    "\n",
    "        return 0"
   ]
  },
  {
   "cell_type": "code",
   "execution_count": 64,
   "metadata": {},
   "outputs": [],
   "source": [
    "total_number = 0\n",
    "\n",
    "for index, row in star_position_df.iterrows():\n",
    "\n",
    "    # n_row = row['row']\n",
    "\n",
    "    number = CheckNumberBesideStar(row = row['row'],\n",
    "                                   column= row['column'])\n",
    "    \n",
    "    total_number = total_number + number"
   ]
  },
  {
   "cell_type": "code",
   "execution_count": 65,
   "metadata": {},
   "outputs": [
    {
     "data": {
      "text/plain": [
       "75220503"
      ]
     },
     "execution_count": 65,
     "metadata": {},
     "output_type": "execute_result"
    }
   ],
   "source": [
    "total_number"
   ]
  },
  {
   "cell_type": "code",
   "execution_count": 26,
   "metadata": {},
   "outputs": [],
   "source": [
    "list_position_to_check_after_df = pd.DataFrame(abc,\n",
    "                                               columns=['Position'])\n",
    "list_position_to_check_after_df[['row', 'column']] = list_position_to_check_after_df['Position'].str.split(\",\", n = 1, expand=True)"
   ]
  },
  {
   "cell_type": "code",
   "execution_count": 27,
   "metadata": {},
   "outputs": [],
   "source": [
    "list_position_to_check_after_df = list_position_to_check_after_df[['row', 'column']]\n",
    "list_position_to_check_after_df['row'] = list_position_to_check_after_df.row.astype(int)\n",
    "list_position_to_check_after_df['column'] = list_position_to_check_after_df.column.astype(int)"
   ]
  },
  {
   "cell_type": "code",
   "execution_count": 29,
   "metadata": {},
   "outputs": [
    {
     "data": {
      "text/plain": [
       "2"
      ]
     },
     "execution_count": 29,
     "metadata": {},
     "output_type": "execute_result"
    }
   ],
   "source": [
    "check = list_position_to_check_after_df.merge(number_position_with_index_df, on= ['row', 'column'])\n",
    "\n",
    "len(check.n_index.unique())"
   ]
  },
  {
   "cell_type": "code",
   "execution_count": 52,
   "metadata": {},
   "outputs": [
    {
     "name": "stdout",
     "output_type": "stream",
     "text": [
      "   index  row  column  value  n_index\n",
      "0      0    0       5      6        1\n",
      "1      1    0       6      6        1\n",
      "2      2    0       7      4        1\n",
      "   index  row  column  value  n_index\n",
      "0     39    2       3      4       16\n",
      "1     40    2       4      0       16\n",
      "2     41    2       5      7       16\n"
     ]
    },
    {
     "data": {
      "text/plain": [
       "270248"
      ]
     },
     "execution_count": 52,
     "metadata": {},
     "output_type": "execute_result"
    }
   ],
   "source": [
    "number = check.n_index.unique().tolist()\n",
    "# number\n",
    "number_df = number_position_with_index_df[number_position_with_index_df.n_index.isin(number)]\n",
    "\n",
    "row_position = number_df.row.unique().tolist()\n",
    "column_position = number_df.column.unique().tolist()\n",
    "n_number = check.n_index.unique().tolist()\n",
    "multiply = 1\n",
    "\n",
    "for n_index in n_number:\n",
    "\n",
    "    index = 0\n",
    "\n",
    "    df_extract = number_df[number_df.n_index == n_index].reset_index()\n",
    "\n",
    "    print(df_extract)\n",
    "\n",
    "    column_positions = df_extract.column.tolist()\n",
    "    number = \"\"\n",
    "    \n",
    "    for n in column_positions:\n",
    "\n",
    "        \n",
    "        value = df_extract[df_extract.column == n].value[index]\n",
    "\n",
    "        # print(\"Value is\", value)\n",
    "\n",
    "        number = number + str(value)\n",
    "        index = index + 1\n",
    "\n",
    "    multiply = multiply*int(number)\n",
    "\n",
    "multiply"
   ]
  },
  {
   "cell_type": "code",
   "execution_count": 53,
   "metadata": {},
   "outputs": [
    {
     "data": {
      "text/plain": [
       "270248"
      ]
     },
     "execution_count": 53,
     "metadata": {},
     "output_type": "execute_result"
    }
   ],
   "source": [
    "664*407"
   ]
  }
 ],
 "metadata": {
  "kernelspec": {
   "display_name": "ngan",
   "language": "python",
   "name": "python3"
  },
  "language_info": {
   "codemirror_mode": {
    "name": "ipython",
    "version": 3
   },
   "file_extension": ".py",
   "mimetype": "text/x-python",
   "name": "python",
   "nbconvert_exporter": "python",
   "pygments_lexer": "ipython3",
   "version": "3.10.0"
  }
 },
 "nbformat": 4,
 "nbformat_minor": 2
}

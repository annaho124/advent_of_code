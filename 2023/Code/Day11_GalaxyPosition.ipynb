{
 "cells": [
  {
   "cell_type": "code",
   "execution_count": 1,
   "metadata": {},
   "outputs": [],
   "source": [
    "import pandas as pd"
   ]
  },
  {
   "cell_type": "code",
   "execution_count": 2,
   "metadata": {},
   "outputs": [],
   "source": [
    "input = pd.read_excel(\"../DATA/Day11_GalaxyPosition.xlsx\")\n",
    "# input = pd.DataFrame({\n",
    "#     'galaxy': [\"...#......\",\n",
    "#                \".......#..\",\n",
    "#                \"#.........\",\n",
    "#                \"..........\",\n",
    "#                \"......#...\",\n",
    "#                \".#........\",\n",
    "#                \".........#\",\n",
    "#                \"..........\",\n",
    "#                \".......#..\",\n",
    "#                \"#...#.....\"]\n",
    "# })"
   ]
  },
  {
   "cell_type": "markdown",
   "metadata": {},
   "source": [
    "# Part 1"
   ]
  },
  {
   "cell_type": "code",
   "execution_count": 3,
   "metadata": {},
   "outputs": [
    {
     "name": "stderr",
     "output_type": "stream",
     "text": [
      "/tmp/ipykernel_1196424/579590119.py:2: PerformanceWarning: DataFrame is highly fragmented.  This is usually the result of calling `frame.insert` many times, which has poor performance.  Consider joining all columns at once using pd.concat(axis=1) instead. To get a de-fragmented frame, use `newframe = frame.copy()`\n",
      "  input[list_columns] = input.galaxy.str.split(\"\", n=140, expand=True)\n",
      "/tmp/ipykernel_1196424/579590119.py:2: PerformanceWarning: DataFrame is highly fragmented.  This is usually the result of calling `frame.insert` many times, which has poor performance.  Consider joining all columns at once using pd.concat(axis=1) instead. To get a de-fragmented frame, use `newframe = frame.copy()`\n",
      "  input[list_columns] = input.galaxy.str.split(\"\", n=140, expand=True)\n",
      "/tmp/ipykernel_1196424/579590119.py:2: PerformanceWarning: DataFrame is highly fragmented.  This is usually the result of calling `frame.insert` many times, which has poor performance.  Consider joining all columns at once using pd.concat(axis=1) instead. To get a de-fragmented frame, use `newframe = frame.copy()`\n",
      "  input[list_columns] = input.galaxy.str.split(\"\", n=140, expand=True)\n",
      "/tmp/ipykernel_1196424/579590119.py:2: PerformanceWarning: DataFrame is highly fragmented.  This is usually the result of calling `frame.insert` many times, which has poor performance.  Consider joining all columns at once using pd.concat(axis=1) instead. To get a de-fragmented frame, use `newframe = frame.copy()`\n",
      "  input[list_columns] = input.galaxy.str.split(\"\", n=140, expand=True)\n",
      "/tmp/ipykernel_1196424/579590119.py:2: PerformanceWarning: DataFrame is highly fragmented.  This is usually the result of calling `frame.insert` many times, which has poor performance.  Consider joining all columns at once using pd.concat(axis=1) instead. To get a de-fragmented frame, use `newframe = frame.copy()`\n",
      "  input[list_columns] = input.galaxy.str.split(\"\", n=140, expand=True)\n",
      "/tmp/ipykernel_1196424/579590119.py:2: PerformanceWarning: DataFrame is highly fragmented.  This is usually the result of calling `frame.insert` many times, which has poor performance.  Consider joining all columns at once using pd.concat(axis=1) instead. To get a de-fragmented frame, use `newframe = frame.copy()`\n",
      "  input[list_columns] = input.galaxy.str.split(\"\", n=140, expand=True)\n",
      "/tmp/ipykernel_1196424/579590119.py:2: PerformanceWarning: DataFrame is highly fragmented.  This is usually the result of calling `frame.insert` many times, which has poor performance.  Consider joining all columns at once using pd.concat(axis=1) instead. To get a de-fragmented frame, use `newframe = frame.copy()`\n",
      "  input[list_columns] = input.galaxy.str.split(\"\", n=140, expand=True)\n",
      "/tmp/ipykernel_1196424/579590119.py:2: PerformanceWarning: DataFrame is highly fragmented.  This is usually the result of calling `frame.insert` many times, which has poor performance.  Consider joining all columns at once using pd.concat(axis=1) instead. To get a de-fragmented frame, use `newframe = frame.copy()`\n",
      "  input[list_columns] = input.galaxy.str.split(\"\", n=140, expand=True)\n",
      "/tmp/ipykernel_1196424/579590119.py:2: PerformanceWarning: DataFrame is highly fragmented.  This is usually the result of calling `frame.insert` many times, which has poor performance.  Consider joining all columns at once using pd.concat(axis=1) instead. To get a de-fragmented frame, use `newframe = frame.copy()`\n",
      "  input[list_columns] = input.galaxy.str.split(\"\", n=140, expand=True)\n",
      "/tmp/ipykernel_1196424/579590119.py:2: PerformanceWarning: DataFrame is highly fragmented.  This is usually the result of calling `frame.insert` many times, which has poor performance.  Consider joining all columns at once using pd.concat(axis=1) instead. To get a de-fragmented frame, use `newframe = frame.copy()`\n",
      "  input[list_columns] = input.galaxy.str.split(\"\", n=140, expand=True)\n",
      "/tmp/ipykernel_1196424/579590119.py:2: PerformanceWarning: DataFrame is highly fragmented.  This is usually the result of calling `frame.insert` many times, which has poor performance.  Consider joining all columns at once using pd.concat(axis=1) instead. To get a de-fragmented frame, use `newframe = frame.copy()`\n",
      "  input[list_columns] = input.galaxy.str.split(\"\", n=140, expand=True)\n",
      "/tmp/ipykernel_1196424/579590119.py:2: PerformanceWarning: DataFrame is highly fragmented.  This is usually the result of calling `frame.insert` many times, which has poor performance.  Consider joining all columns at once using pd.concat(axis=1) instead. To get a de-fragmented frame, use `newframe = frame.copy()`\n",
      "  input[list_columns] = input.galaxy.str.split(\"\", n=140, expand=True)\n",
      "/tmp/ipykernel_1196424/579590119.py:2: PerformanceWarning: DataFrame is highly fragmented.  This is usually the result of calling `frame.insert` many times, which has poor performance.  Consider joining all columns at once using pd.concat(axis=1) instead. To get a de-fragmented frame, use `newframe = frame.copy()`\n",
      "  input[list_columns] = input.galaxy.str.split(\"\", n=140, expand=True)\n",
      "/tmp/ipykernel_1196424/579590119.py:2: PerformanceWarning: DataFrame is highly fragmented.  This is usually the result of calling `frame.insert` many times, which has poor performance.  Consider joining all columns at once using pd.concat(axis=1) instead. To get a de-fragmented frame, use `newframe = frame.copy()`\n",
      "  input[list_columns] = input.galaxy.str.split(\"\", n=140, expand=True)\n",
      "/tmp/ipykernel_1196424/579590119.py:2: PerformanceWarning: DataFrame is highly fragmented.  This is usually the result of calling `frame.insert` many times, which has poor performance.  Consider joining all columns at once using pd.concat(axis=1) instead. To get a de-fragmented frame, use `newframe = frame.copy()`\n",
      "  input[list_columns] = input.galaxy.str.split(\"\", n=140, expand=True)\n",
      "/tmp/ipykernel_1196424/579590119.py:2: PerformanceWarning: DataFrame is highly fragmented.  This is usually the result of calling `frame.insert` many times, which has poor performance.  Consider joining all columns at once using pd.concat(axis=1) instead. To get a de-fragmented frame, use `newframe = frame.copy()`\n",
      "  input[list_columns] = input.galaxy.str.split(\"\", n=140, expand=True)\n",
      "/tmp/ipykernel_1196424/579590119.py:2: PerformanceWarning: DataFrame is highly fragmented.  This is usually the result of calling `frame.insert` many times, which has poor performance.  Consider joining all columns at once using pd.concat(axis=1) instead. To get a de-fragmented frame, use `newframe = frame.copy()`\n",
      "  input[list_columns] = input.galaxy.str.split(\"\", n=140, expand=True)\n",
      "/tmp/ipykernel_1196424/579590119.py:2: PerformanceWarning: DataFrame is highly fragmented.  This is usually the result of calling `frame.insert` many times, which has poor performance.  Consider joining all columns at once using pd.concat(axis=1) instead. To get a de-fragmented frame, use `newframe = frame.copy()`\n",
      "  input[list_columns] = input.galaxy.str.split(\"\", n=140, expand=True)\n",
      "/tmp/ipykernel_1196424/579590119.py:2: PerformanceWarning: DataFrame is highly fragmented.  This is usually the result of calling `frame.insert` many times, which has poor performance.  Consider joining all columns at once using pd.concat(axis=1) instead. To get a de-fragmented frame, use `newframe = frame.copy()`\n",
      "  input[list_columns] = input.galaxy.str.split(\"\", n=140, expand=True)\n",
      "/tmp/ipykernel_1196424/579590119.py:2: PerformanceWarning: DataFrame is highly fragmented.  This is usually the result of calling `frame.insert` many times, which has poor performance.  Consider joining all columns at once using pd.concat(axis=1) instead. To get a de-fragmented frame, use `newframe = frame.copy()`\n",
      "  input[list_columns] = input.galaxy.str.split(\"\", n=140, expand=True)\n",
      "/tmp/ipykernel_1196424/579590119.py:2: PerformanceWarning: DataFrame is highly fragmented.  This is usually the result of calling `frame.insert` many times, which has poor performance.  Consider joining all columns at once using pd.concat(axis=1) instead. To get a de-fragmented frame, use `newframe = frame.copy()`\n",
      "  input[list_columns] = input.galaxy.str.split(\"\", n=140, expand=True)\n",
      "/tmp/ipykernel_1196424/579590119.py:2: PerformanceWarning: DataFrame is highly fragmented.  This is usually the result of calling `frame.insert` many times, which has poor performance.  Consider joining all columns at once using pd.concat(axis=1) instead. To get a de-fragmented frame, use `newframe = frame.copy()`\n",
      "  input[list_columns] = input.galaxy.str.split(\"\", n=140, expand=True)\n",
      "/tmp/ipykernel_1196424/579590119.py:2: PerformanceWarning: DataFrame is highly fragmented.  This is usually the result of calling `frame.insert` many times, which has poor performance.  Consider joining all columns at once using pd.concat(axis=1) instead. To get a de-fragmented frame, use `newframe = frame.copy()`\n",
      "  input[list_columns] = input.galaxy.str.split(\"\", n=140, expand=True)\n",
      "/tmp/ipykernel_1196424/579590119.py:2: PerformanceWarning: DataFrame is highly fragmented.  This is usually the result of calling `frame.insert` many times, which has poor performance.  Consider joining all columns at once using pd.concat(axis=1) instead. To get a de-fragmented frame, use `newframe = frame.copy()`\n",
      "  input[list_columns] = input.galaxy.str.split(\"\", n=140, expand=True)\n",
      "/tmp/ipykernel_1196424/579590119.py:2: PerformanceWarning: DataFrame is highly fragmented.  This is usually the result of calling `frame.insert` many times, which has poor performance.  Consider joining all columns at once using pd.concat(axis=1) instead. To get a de-fragmented frame, use `newframe = frame.copy()`\n",
      "  input[list_columns] = input.galaxy.str.split(\"\", n=140, expand=True)\n",
      "/tmp/ipykernel_1196424/579590119.py:2: PerformanceWarning: DataFrame is highly fragmented.  This is usually the result of calling `frame.insert` many times, which has poor performance.  Consider joining all columns at once using pd.concat(axis=1) instead. To get a de-fragmented frame, use `newframe = frame.copy()`\n",
      "  input[list_columns] = input.galaxy.str.split(\"\", n=140, expand=True)\n",
      "/tmp/ipykernel_1196424/579590119.py:2: PerformanceWarning: DataFrame is highly fragmented.  This is usually the result of calling `frame.insert` many times, which has poor performance.  Consider joining all columns at once using pd.concat(axis=1) instead. To get a de-fragmented frame, use `newframe = frame.copy()`\n",
      "  input[list_columns] = input.galaxy.str.split(\"\", n=140, expand=True)\n",
      "/tmp/ipykernel_1196424/579590119.py:2: PerformanceWarning: DataFrame is highly fragmented.  This is usually the result of calling `frame.insert` many times, which has poor performance.  Consider joining all columns at once using pd.concat(axis=1) instead. To get a de-fragmented frame, use `newframe = frame.copy()`\n",
      "  input[list_columns] = input.galaxy.str.split(\"\", n=140, expand=True)\n",
      "/tmp/ipykernel_1196424/579590119.py:2: PerformanceWarning: DataFrame is highly fragmented.  This is usually the result of calling `frame.insert` many times, which has poor performance.  Consider joining all columns at once using pd.concat(axis=1) instead. To get a de-fragmented frame, use `newframe = frame.copy()`\n",
      "  input[list_columns] = input.galaxy.str.split(\"\", n=140, expand=True)\n",
      "/tmp/ipykernel_1196424/579590119.py:2: PerformanceWarning: DataFrame is highly fragmented.  This is usually the result of calling `frame.insert` many times, which has poor performance.  Consider joining all columns at once using pd.concat(axis=1) instead. To get a de-fragmented frame, use `newframe = frame.copy()`\n",
      "  input[list_columns] = input.galaxy.str.split(\"\", n=140, expand=True)\n",
      "/tmp/ipykernel_1196424/579590119.py:2: PerformanceWarning: DataFrame is highly fragmented.  This is usually the result of calling `frame.insert` many times, which has poor performance.  Consider joining all columns at once using pd.concat(axis=1) instead. To get a de-fragmented frame, use `newframe = frame.copy()`\n",
      "  input[list_columns] = input.galaxy.str.split(\"\", n=140, expand=True)\n",
      "/tmp/ipykernel_1196424/579590119.py:2: PerformanceWarning: DataFrame is highly fragmented.  This is usually the result of calling `frame.insert` many times, which has poor performance.  Consider joining all columns at once using pd.concat(axis=1) instead. To get a de-fragmented frame, use `newframe = frame.copy()`\n",
      "  input[list_columns] = input.galaxy.str.split(\"\", n=140, expand=True)\n",
      "/tmp/ipykernel_1196424/579590119.py:2: PerformanceWarning: DataFrame is highly fragmented.  This is usually the result of calling `frame.insert` many times, which has poor performance.  Consider joining all columns at once using pd.concat(axis=1) instead. To get a de-fragmented frame, use `newframe = frame.copy()`\n",
      "  input[list_columns] = input.galaxy.str.split(\"\", n=140, expand=True)\n",
      "/tmp/ipykernel_1196424/579590119.py:2: PerformanceWarning: DataFrame is highly fragmented.  This is usually the result of calling `frame.insert` many times, which has poor performance.  Consider joining all columns at once using pd.concat(axis=1) instead. To get a de-fragmented frame, use `newframe = frame.copy()`\n",
      "  input[list_columns] = input.galaxy.str.split(\"\", n=140, expand=True)\n",
      "/tmp/ipykernel_1196424/579590119.py:2: PerformanceWarning: DataFrame is highly fragmented.  This is usually the result of calling `frame.insert` many times, which has poor performance.  Consider joining all columns at once using pd.concat(axis=1) instead. To get a de-fragmented frame, use `newframe = frame.copy()`\n",
      "  input[list_columns] = input.galaxy.str.split(\"\", n=140, expand=True)\n",
      "/tmp/ipykernel_1196424/579590119.py:2: PerformanceWarning: DataFrame is highly fragmented.  This is usually the result of calling `frame.insert` many times, which has poor performance.  Consider joining all columns at once using pd.concat(axis=1) instead. To get a de-fragmented frame, use `newframe = frame.copy()`\n",
      "  input[list_columns] = input.galaxy.str.split(\"\", n=140, expand=True)\n",
      "/tmp/ipykernel_1196424/579590119.py:2: PerformanceWarning: DataFrame is highly fragmented.  This is usually the result of calling `frame.insert` many times, which has poor performance.  Consider joining all columns at once using pd.concat(axis=1) instead. To get a de-fragmented frame, use `newframe = frame.copy()`\n",
      "  input[list_columns] = input.galaxy.str.split(\"\", n=140, expand=True)\n",
      "/tmp/ipykernel_1196424/579590119.py:2: PerformanceWarning: DataFrame is highly fragmented.  This is usually the result of calling `frame.insert` many times, which has poor performance.  Consider joining all columns at once using pd.concat(axis=1) instead. To get a de-fragmented frame, use `newframe = frame.copy()`\n",
      "  input[list_columns] = input.galaxy.str.split(\"\", n=140, expand=True)\n",
      "/tmp/ipykernel_1196424/579590119.py:2: PerformanceWarning: DataFrame is highly fragmented.  This is usually the result of calling `frame.insert` many times, which has poor performance.  Consider joining all columns at once using pd.concat(axis=1) instead. To get a de-fragmented frame, use `newframe = frame.copy()`\n",
      "  input[list_columns] = input.galaxy.str.split(\"\", n=140, expand=True)\n",
      "/tmp/ipykernel_1196424/579590119.py:2: PerformanceWarning: DataFrame is highly fragmented.  This is usually the result of calling `frame.insert` many times, which has poor performance.  Consider joining all columns at once using pd.concat(axis=1) instead. To get a de-fragmented frame, use `newframe = frame.copy()`\n",
      "  input[list_columns] = input.galaxy.str.split(\"\", n=140, expand=True)\n",
      "/tmp/ipykernel_1196424/579590119.py:2: PerformanceWarning: DataFrame is highly fragmented.  This is usually the result of calling `frame.insert` many times, which has poor performance.  Consider joining all columns at once using pd.concat(axis=1) instead. To get a de-fragmented frame, use `newframe = frame.copy()`\n",
      "  input[list_columns] = input.galaxy.str.split(\"\", n=140, expand=True)\n",
      "/tmp/ipykernel_1196424/579590119.py:2: PerformanceWarning: DataFrame is highly fragmented.  This is usually the result of calling `frame.insert` many times, which has poor performance.  Consider joining all columns at once using pd.concat(axis=1) instead. To get a de-fragmented frame, use `newframe = frame.copy()`\n",
      "  input[list_columns] = input.galaxy.str.split(\"\", n=140, expand=True)\n"
     ]
    }
   ],
   "source": [
    "list_columns = list(range(0,len(input) + 1))\n",
    "input[list_columns] = input.galaxy.str.split(\"\", n=140, expand=True)\n",
    "input = input.drop([0], axis=1)\n",
    "list_columns.remove(0)"
   ]
  },
  {
   "cell_type": "code",
   "execution_count": 4,
   "metadata": {},
   "outputs": [
    {
     "name": "stderr",
     "output_type": "stream",
     "text": [
      "/tmp/ipykernel_1196424/1896617026.py:18: SettingWithCopyWarning: \n",
      "A value is trying to be set on a copy of a slice from a DataFrame.\n",
      "Try using .loc[row_indexer,col_indexer] = value instead\n",
      "\n",
      "See the caveats in the documentation: https://pandas.pydata.org/pandas-docs/stable/user_guide/indexing.html#returning-a-view-versus-a-copy\n",
      "  col_before[i+1] = col_before[i]\n",
      "/tmp/ipykernel_1196424/1896617026.py:18: SettingWithCopyWarning: \n",
      "A value is trying to be set on a copy of a slice from a DataFrame.\n",
      "Try using .loc[row_indexer,col_indexer] = value instead\n",
      "\n",
      "See the caveats in the documentation: https://pandas.pydata.org/pandas-docs/stable/user_guide/indexing.html#returning-a-view-versus-a-copy\n",
      "  col_before[i+1] = col_before[i]\n",
      "/tmp/ipykernel_1196424/1896617026.py:18: SettingWithCopyWarning: \n",
      "A value is trying to be set on a copy of a slice from a DataFrame.\n",
      "Try using .loc[row_indexer,col_indexer] = value instead\n",
      "\n",
      "See the caveats in the documentation: https://pandas.pydata.org/pandas-docs/stable/user_guide/indexing.html#returning-a-view-versus-a-copy\n",
      "  col_before[i+1] = col_before[i]\n",
      "/tmp/ipykernel_1196424/1896617026.py:18: SettingWithCopyWarning: \n",
      "A value is trying to be set on a copy of a slice from a DataFrame.\n",
      "Try using .loc[row_indexer,col_indexer] = value instead\n",
      "\n",
      "See the caveats in the documentation: https://pandas.pydata.org/pandas-docs/stable/user_guide/indexing.html#returning-a-view-versus-a-copy\n",
      "  col_before[i+1] = col_before[i]\n",
      "/tmp/ipykernel_1196424/1896617026.py:18: SettingWithCopyWarning: \n",
      "A value is trying to be set on a copy of a slice from a DataFrame.\n",
      "Try using .loc[row_indexer,col_indexer] = value instead\n",
      "\n",
      "See the caveats in the documentation: https://pandas.pydata.org/pandas-docs/stable/user_guide/indexing.html#returning-a-view-versus-a-copy\n",
      "  col_before[i+1] = col_before[i]\n"
     ]
    }
   ],
   "source": [
    "list_col_not_ok = []\n",
    "for col in list_columns:\n",
    "\n",
    "    if len(input[col].unique()) == 1:\n",
    "\n",
    "        list_col_not_ok.append(col)\n",
    "# n_col = 10\n",
    "n_col = 140\n",
    "while len(list_col_not_ok) != 0:\n",
    "\n",
    "    i = list_col_not_ok[0]\n",
    "    \n",
    "    list_col_after = list(range(i+1, n_col + 1))\n",
    "    col_after = input[list_col_after]\n",
    "    col_after.columns = [x + 1 for x in list_col_after]\n",
    "    list_col_before = list(range(1, i + 1))\n",
    "    col_before = input[list_col_before]\n",
    "    col_before[i+1] = col_before[i]\n",
    "    input = pd.concat([col_before.reset_index(drop=True), col_after], axis=1)\n",
    "    list_col_not_ok.remove(i)\n",
    "    list_col_not_ok = [x + 1 for x in list_col_not_ok]\n",
    "    n_col = n_col + 1\n",
    "\n",
    "list_columns = list(range(1, len(input.columns) + 1))\n",
    "input['galaxy'] = input[list_columns].apply(lambda row: ''.join(row.values.astype(str)), axis=1)\n",
    "input = input[['galaxy']]"
   ]
  },
  {
   "cell_type": "code",
   "execution_count": 5,
   "metadata": {},
   "outputs": [],
   "source": [
    "list_row_not_ok = []\n",
    "for i in range(len(input)):\n",
    "\n",
    "    string = input.galaxy[i]\n",
    "\n",
    "    n_list = len(set(list(string)))\n",
    "\n",
    "    if n_list == 1:\n",
    "\n",
    "       list_row_not_ok.append(i)"
   ]
  },
  {
   "cell_type": "code",
   "execution_count": 6,
   "metadata": {},
   "outputs": [],
   "source": [
    "i = 57"
   ]
  },
  {
   "cell_type": "code",
   "execution_count": 7,
   "metadata": {},
   "outputs": [],
   "source": [
    "# row_above = input[0:58].append(input[57:58], ignore_index=True)\n",
    "# input = row_above.append(input[58:140], ignore_index= True)\n",
    "#       list_row_not_ok.remove(i)\n",
    "#       list_row_not_ok = [x + 1 for x in list_col_not_ok]"
   ]
  },
  {
   "cell_type": "code",
   "execution_count": 8,
   "metadata": {},
   "outputs": [
    {
     "name": "stderr",
     "output_type": "stream",
     "text": [
      "/tmp/ipykernel_1196424/640366563.py:8: FutureWarning: The frame.append method is deprecated and will be removed from pandas in a future version. Use pandas.concat instead.\n",
      "  row_above = row_above.append(input[i:i+1], ignore_index=True)\n",
      "/tmp/ipykernel_1196424/640366563.py:9: FutureWarning: The frame.append method is deprecated and will be removed from pandas in a future version. Use pandas.concat instead.\n",
      "  input = row_above.append(row_below, ignore_index=True)\n"
     ]
    }
   ],
   "source": [
    "n_row = len(input)\n",
    "while len(list_row_not_ok) != 0:\n",
    "      \n",
    "      i = list_row_not_ok[0]\n",
    "    \n",
    "      row_above = input[0:i+1]\n",
    "      row_below = input[i+1:n_row]\n",
    "      row_above = row_above.append(input[i:i+1], ignore_index=True)\n",
    "      input = row_above.append(row_below, ignore_index=True)\n",
    "      list_row_not_ok.remove(i)\n",
    "      list_row_not_ok = [x + 1 for x in list_row_not_ok]\n",
    "      n_row = n_row + 1 "
   ]
  },
  {
   "cell_type": "code",
   "execution_count": 9,
   "metadata": {},
   "outputs": [],
   "source": [
    "# data_matrix = {}\n",
    "# list_position = []\n",
    "# if_integer = []\n",
    "# list_number = ['1', '2', '3', '4', '5', '6', '7', '8', '9', '0']\n",
    "# star_position = {\n",
    "# }\n",
    "n_star = 1\n",
    "star_position = []"
   ]
  },
  {
   "cell_type": "code",
   "execution_count": 10,
   "metadata": {},
   "outputs": [],
   "source": [
    "for a in range(len(input)):\n",
    "\n",
    "    string = input.galaxy[a]\n",
    "\n",
    "    for b in range(len(string)):\n",
    "\n",
    "        # position = str(a) + \",\" + str(b)\n",
    "\n",
    "        value = string[b:b+1]\n",
    "        # data_matrix[position] = value\n",
    "        # list_position.append(position)\n",
    "\n",
    "        if value == \"#\":\n",
    "\n",
    "            # number = int(value)\n",
    "            # position = str(a) + \",\" + str(b)\n",
    "            \n",
    "            # star_position[str(n_star)] = [a, b]\n",
    "            # n_star = n_star + 1\n",
    "            star_position.append([a, b])\n",
    "\n"
   ]
  },
  {
   "cell_type": "code",
   "execution_count": 11,
   "metadata": {},
   "outputs": [],
   "source": []
  },
  {
   "cell_type": "code",
   "execution_count": 12,
   "metadata": {},
   "outputs": [
    {
     "data": {
      "text/plain": [
       "438"
      ]
     },
     "execution_count": 12,
     "metadata": {},
     "output_type": "execute_result"
    }
   ],
   "source": [
    "len(star_position)"
   ]
  },
  {
   "cell_type": "code",
   "execution_count": 13,
   "metadata": {},
   "outputs": [],
   "source": [
    "distance = 0 \n",
    "combination = 0\n",
    "i = 0\n",
    "while(len(star_position) != 0):\n",
    "\n",
    "    star_i = star_position[i]\n",
    "    list_stars_to_calculate = [x for x in star_position if x != star_i]\n",
    "\n",
    "    for star_to_calculate in list_stars_to_calculate:\n",
    "\n",
    "        manhattan_distance = abs(star_i[0] - star_to_calculate[0]) + abs(star_i[1] - star_to_calculate[1]) \n",
    "\n",
    "        distance = distance + manhattan_distance\n",
    "\n",
    "        combination = combination + 1\n",
    "            \n",
    "    star_position.remove(star_i)\n",
    "\n",
    "    \n",
    "    "
   ]
  },
  {
   "cell_type": "code",
   "execution_count": 14,
   "metadata": {},
   "outputs": [
    {
     "data": {
      "text/plain": [
       "9605127"
      ]
     },
     "execution_count": 14,
     "metadata": {},
     "output_type": "execute_result"
    }
   ],
   "source": [
    "distance"
   ]
  },
  {
   "cell_type": "markdown",
   "metadata": {},
   "source": [
    "# Part 2"
   ]
  },
  {
   "cell_type": "code",
   "execution_count": 76,
   "metadata": {},
   "outputs": [],
   "source": [
    "input = pd.read_excel(\"../DATA/Day11_GalaxyPosition.xlsx\")\n",
    "# input = pd.DataFrame({\n",
    "#     'galaxy': [\"...#......\",\n",
    "#                \".......#..\",\n",
    "#                \"#.........\",\n",
    "#                \"..........\",\n",
    "#                \"......#...\",\n",
    "#                \".#........\",\n",
    "#                \".........#\",\n",
    "#                \"..........\",\n",
    "#                \".......#..\",\n",
    "#                \"#...#.....\"]\n",
    "# })"
   ]
  },
  {
   "cell_type": "code",
   "execution_count": 77,
   "metadata": {},
   "outputs": [
    {
     "name": "stderr",
     "output_type": "stream",
     "text": [
      "/tmp/ipykernel_1201045/579590119.py:2: PerformanceWarning: DataFrame is highly fragmented.  This is usually the result of calling `frame.insert` many times, which has poor performance.  Consider joining all columns at once using pd.concat(axis=1) instead. To get a de-fragmented frame, use `newframe = frame.copy()`\n",
      "  input[list_columns] = input.galaxy.str.split(\"\", n=140, expand=True)\n",
      "/tmp/ipykernel_1201045/579590119.py:2: PerformanceWarning: DataFrame is highly fragmented.  This is usually the result of calling `frame.insert` many times, which has poor performance.  Consider joining all columns at once using pd.concat(axis=1) instead. To get a de-fragmented frame, use `newframe = frame.copy()`\n",
      "  input[list_columns] = input.galaxy.str.split(\"\", n=140, expand=True)\n",
      "/tmp/ipykernel_1201045/579590119.py:2: PerformanceWarning: DataFrame is highly fragmented.  This is usually the result of calling `frame.insert` many times, which has poor performance.  Consider joining all columns at once using pd.concat(axis=1) instead. To get a de-fragmented frame, use `newframe = frame.copy()`\n",
      "  input[list_columns] = input.galaxy.str.split(\"\", n=140, expand=True)\n",
      "/tmp/ipykernel_1201045/579590119.py:2: PerformanceWarning: DataFrame is highly fragmented.  This is usually the result of calling `frame.insert` many times, which has poor performance.  Consider joining all columns at once using pd.concat(axis=1) instead. To get a de-fragmented frame, use `newframe = frame.copy()`\n",
      "  input[list_columns] = input.galaxy.str.split(\"\", n=140, expand=True)\n",
      "/tmp/ipykernel_1201045/579590119.py:2: PerformanceWarning: DataFrame is highly fragmented.  This is usually the result of calling `frame.insert` many times, which has poor performance.  Consider joining all columns at once using pd.concat(axis=1) instead. To get a de-fragmented frame, use `newframe = frame.copy()`\n",
      "  input[list_columns] = input.galaxy.str.split(\"\", n=140, expand=True)\n",
      "/tmp/ipykernel_1201045/579590119.py:2: PerformanceWarning: DataFrame is highly fragmented.  This is usually the result of calling `frame.insert` many times, which has poor performance.  Consider joining all columns at once using pd.concat(axis=1) instead. To get a de-fragmented frame, use `newframe = frame.copy()`\n",
      "  input[list_columns] = input.galaxy.str.split(\"\", n=140, expand=True)\n",
      "/tmp/ipykernel_1201045/579590119.py:2: PerformanceWarning: DataFrame is highly fragmented.  This is usually the result of calling `frame.insert` many times, which has poor performance.  Consider joining all columns at once using pd.concat(axis=1) instead. To get a de-fragmented frame, use `newframe = frame.copy()`\n",
      "  input[list_columns] = input.galaxy.str.split(\"\", n=140, expand=True)\n",
      "/tmp/ipykernel_1201045/579590119.py:2: PerformanceWarning: DataFrame is highly fragmented.  This is usually the result of calling `frame.insert` many times, which has poor performance.  Consider joining all columns at once using pd.concat(axis=1) instead. To get a de-fragmented frame, use `newframe = frame.copy()`\n",
      "  input[list_columns] = input.galaxy.str.split(\"\", n=140, expand=True)\n",
      "/tmp/ipykernel_1201045/579590119.py:2: PerformanceWarning: DataFrame is highly fragmented.  This is usually the result of calling `frame.insert` many times, which has poor performance.  Consider joining all columns at once using pd.concat(axis=1) instead. To get a de-fragmented frame, use `newframe = frame.copy()`\n",
      "  input[list_columns] = input.galaxy.str.split(\"\", n=140, expand=True)\n",
      "/tmp/ipykernel_1201045/579590119.py:2: PerformanceWarning: DataFrame is highly fragmented.  This is usually the result of calling `frame.insert` many times, which has poor performance.  Consider joining all columns at once using pd.concat(axis=1) instead. To get a de-fragmented frame, use `newframe = frame.copy()`\n",
      "  input[list_columns] = input.galaxy.str.split(\"\", n=140, expand=True)\n",
      "/tmp/ipykernel_1201045/579590119.py:2: PerformanceWarning: DataFrame is highly fragmented.  This is usually the result of calling `frame.insert` many times, which has poor performance.  Consider joining all columns at once using pd.concat(axis=1) instead. To get a de-fragmented frame, use `newframe = frame.copy()`\n",
      "  input[list_columns] = input.galaxy.str.split(\"\", n=140, expand=True)\n",
      "/tmp/ipykernel_1201045/579590119.py:2: PerformanceWarning: DataFrame is highly fragmented.  This is usually the result of calling `frame.insert` many times, which has poor performance.  Consider joining all columns at once using pd.concat(axis=1) instead. To get a de-fragmented frame, use `newframe = frame.copy()`\n",
      "  input[list_columns] = input.galaxy.str.split(\"\", n=140, expand=True)\n",
      "/tmp/ipykernel_1201045/579590119.py:2: PerformanceWarning: DataFrame is highly fragmented.  This is usually the result of calling `frame.insert` many times, which has poor performance.  Consider joining all columns at once using pd.concat(axis=1) instead. To get a de-fragmented frame, use `newframe = frame.copy()`\n",
      "  input[list_columns] = input.galaxy.str.split(\"\", n=140, expand=True)\n",
      "/tmp/ipykernel_1201045/579590119.py:2: PerformanceWarning: DataFrame is highly fragmented.  This is usually the result of calling `frame.insert` many times, which has poor performance.  Consider joining all columns at once using pd.concat(axis=1) instead. To get a de-fragmented frame, use `newframe = frame.copy()`\n",
      "  input[list_columns] = input.galaxy.str.split(\"\", n=140, expand=True)\n",
      "/tmp/ipykernel_1201045/579590119.py:2: PerformanceWarning: DataFrame is highly fragmented.  This is usually the result of calling `frame.insert` many times, which has poor performance.  Consider joining all columns at once using pd.concat(axis=1) instead. To get a de-fragmented frame, use `newframe = frame.copy()`\n",
      "  input[list_columns] = input.galaxy.str.split(\"\", n=140, expand=True)\n",
      "/tmp/ipykernel_1201045/579590119.py:2: PerformanceWarning: DataFrame is highly fragmented.  This is usually the result of calling `frame.insert` many times, which has poor performance.  Consider joining all columns at once using pd.concat(axis=1) instead. To get a de-fragmented frame, use `newframe = frame.copy()`\n",
      "  input[list_columns] = input.galaxy.str.split(\"\", n=140, expand=True)\n",
      "/tmp/ipykernel_1201045/579590119.py:2: PerformanceWarning: DataFrame is highly fragmented.  This is usually the result of calling `frame.insert` many times, which has poor performance.  Consider joining all columns at once using pd.concat(axis=1) instead. To get a de-fragmented frame, use `newframe = frame.copy()`\n",
      "  input[list_columns] = input.galaxy.str.split(\"\", n=140, expand=True)\n",
      "/tmp/ipykernel_1201045/579590119.py:2: PerformanceWarning: DataFrame is highly fragmented.  This is usually the result of calling `frame.insert` many times, which has poor performance.  Consider joining all columns at once using pd.concat(axis=1) instead. To get a de-fragmented frame, use `newframe = frame.copy()`\n",
      "  input[list_columns] = input.galaxy.str.split(\"\", n=140, expand=True)\n",
      "/tmp/ipykernel_1201045/579590119.py:2: PerformanceWarning: DataFrame is highly fragmented.  This is usually the result of calling `frame.insert` many times, which has poor performance.  Consider joining all columns at once using pd.concat(axis=1) instead. To get a de-fragmented frame, use `newframe = frame.copy()`\n",
      "  input[list_columns] = input.galaxy.str.split(\"\", n=140, expand=True)\n",
      "/tmp/ipykernel_1201045/579590119.py:2: PerformanceWarning: DataFrame is highly fragmented.  This is usually the result of calling `frame.insert` many times, which has poor performance.  Consider joining all columns at once using pd.concat(axis=1) instead. To get a de-fragmented frame, use `newframe = frame.copy()`\n",
      "  input[list_columns] = input.galaxy.str.split(\"\", n=140, expand=True)\n",
      "/tmp/ipykernel_1201045/579590119.py:2: PerformanceWarning: DataFrame is highly fragmented.  This is usually the result of calling `frame.insert` many times, which has poor performance.  Consider joining all columns at once using pd.concat(axis=1) instead. To get a de-fragmented frame, use `newframe = frame.copy()`\n",
      "  input[list_columns] = input.galaxy.str.split(\"\", n=140, expand=True)\n",
      "/tmp/ipykernel_1201045/579590119.py:2: PerformanceWarning: DataFrame is highly fragmented.  This is usually the result of calling `frame.insert` many times, which has poor performance.  Consider joining all columns at once using pd.concat(axis=1) instead. To get a de-fragmented frame, use `newframe = frame.copy()`\n",
      "  input[list_columns] = input.galaxy.str.split(\"\", n=140, expand=True)\n",
      "/tmp/ipykernel_1201045/579590119.py:2: PerformanceWarning: DataFrame is highly fragmented.  This is usually the result of calling `frame.insert` many times, which has poor performance.  Consider joining all columns at once using pd.concat(axis=1) instead. To get a de-fragmented frame, use `newframe = frame.copy()`\n",
      "  input[list_columns] = input.galaxy.str.split(\"\", n=140, expand=True)\n",
      "/tmp/ipykernel_1201045/579590119.py:2: PerformanceWarning: DataFrame is highly fragmented.  This is usually the result of calling `frame.insert` many times, which has poor performance.  Consider joining all columns at once using pd.concat(axis=1) instead. To get a de-fragmented frame, use `newframe = frame.copy()`\n",
      "  input[list_columns] = input.galaxy.str.split(\"\", n=140, expand=True)\n",
      "/tmp/ipykernel_1201045/579590119.py:2: PerformanceWarning: DataFrame is highly fragmented.  This is usually the result of calling `frame.insert` many times, which has poor performance.  Consider joining all columns at once using pd.concat(axis=1) instead. To get a de-fragmented frame, use `newframe = frame.copy()`\n",
      "  input[list_columns] = input.galaxy.str.split(\"\", n=140, expand=True)\n",
      "/tmp/ipykernel_1201045/579590119.py:2: PerformanceWarning: DataFrame is highly fragmented.  This is usually the result of calling `frame.insert` many times, which has poor performance.  Consider joining all columns at once using pd.concat(axis=1) instead. To get a de-fragmented frame, use `newframe = frame.copy()`\n",
      "  input[list_columns] = input.galaxy.str.split(\"\", n=140, expand=True)\n",
      "/tmp/ipykernel_1201045/579590119.py:2: PerformanceWarning: DataFrame is highly fragmented.  This is usually the result of calling `frame.insert` many times, which has poor performance.  Consider joining all columns at once using pd.concat(axis=1) instead. To get a de-fragmented frame, use `newframe = frame.copy()`\n",
      "  input[list_columns] = input.galaxy.str.split(\"\", n=140, expand=True)\n",
      "/tmp/ipykernel_1201045/579590119.py:2: PerformanceWarning: DataFrame is highly fragmented.  This is usually the result of calling `frame.insert` many times, which has poor performance.  Consider joining all columns at once using pd.concat(axis=1) instead. To get a de-fragmented frame, use `newframe = frame.copy()`\n",
      "  input[list_columns] = input.galaxy.str.split(\"\", n=140, expand=True)\n",
      "/tmp/ipykernel_1201045/579590119.py:2: PerformanceWarning: DataFrame is highly fragmented.  This is usually the result of calling `frame.insert` many times, which has poor performance.  Consider joining all columns at once using pd.concat(axis=1) instead. To get a de-fragmented frame, use `newframe = frame.copy()`\n",
      "  input[list_columns] = input.galaxy.str.split(\"\", n=140, expand=True)\n",
      "/tmp/ipykernel_1201045/579590119.py:2: PerformanceWarning: DataFrame is highly fragmented.  This is usually the result of calling `frame.insert` many times, which has poor performance.  Consider joining all columns at once using pd.concat(axis=1) instead. To get a de-fragmented frame, use `newframe = frame.copy()`\n",
      "  input[list_columns] = input.galaxy.str.split(\"\", n=140, expand=True)\n",
      "/tmp/ipykernel_1201045/579590119.py:2: PerformanceWarning: DataFrame is highly fragmented.  This is usually the result of calling `frame.insert` many times, which has poor performance.  Consider joining all columns at once using pd.concat(axis=1) instead. To get a de-fragmented frame, use `newframe = frame.copy()`\n",
      "  input[list_columns] = input.galaxy.str.split(\"\", n=140, expand=True)\n",
      "/tmp/ipykernel_1201045/579590119.py:2: PerformanceWarning: DataFrame is highly fragmented.  This is usually the result of calling `frame.insert` many times, which has poor performance.  Consider joining all columns at once using pd.concat(axis=1) instead. To get a de-fragmented frame, use `newframe = frame.copy()`\n",
      "  input[list_columns] = input.galaxy.str.split(\"\", n=140, expand=True)\n",
      "/tmp/ipykernel_1201045/579590119.py:2: PerformanceWarning: DataFrame is highly fragmented.  This is usually the result of calling `frame.insert` many times, which has poor performance.  Consider joining all columns at once using pd.concat(axis=1) instead. To get a de-fragmented frame, use `newframe = frame.copy()`\n",
      "  input[list_columns] = input.galaxy.str.split(\"\", n=140, expand=True)\n",
      "/tmp/ipykernel_1201045/579590119.py:2: PerformanceWarning: DataFrame is highly fragmented.  This is usually the result of calling `frame.insert` many times, which has poor performance.  Consider joining all columns at once using pd.concat(axis=1) instead. To get a de-fragmented frame, use `newframe = frame.copy()`\n",
      "  input[list_columns] = input.galaxy.str.split(\"\", n=140, expand=True)\n",
      "/tmp/ipykernel_1201045/579590119.py:2: PerformanceWarning: DataFrame is highly fragmented.  This is usually the result of calling `frame.insert` many times, which has poor performance.  Consider joining all columns at once using pd.concat(axis=1) instead. To get a de-fragmented frame, use `newframe = frame.copy()`\n",
      "  input[list_columns] = input.galaxy.str.split(\"\", n=140, expand=True)\n",
      "/tmp/ipykernel_1201045/579590119.py:2: PerformanceWarning: DataFrame is highly fragmented.  This is usually the result of calling `frame.insert` many times, which has poor performance.  Consider joining all columns at once using pd.concat(axis=1) instead. To get a de-fragmented frame, use `newframe = frame.copy()`\n",
      "  input[list_columns] = input.galaxy.str.split(\"\", n=140, expand=True)\n",
      "/tmp/ipykernel_1201045/579590119.py:2: PerformanceWarning: DataFrame is highly fragmented.  This is usually the result of calling `frame.insert` many times, which has poor performance.  Consider joining all columns at once using pd.concat(axis=1) instead. To get a de-fragmented frame, use `newframe = frame.copy()`\n",
      "  input[list_columns] = input.galaxy.str.split(\"\", n=140, expand=True)\n",
      "/tmp/ipykernel_1201045/579590119.py:2: PerformanceWarning: DataFrame is highly fragmented.  This is usually the result of calling `frame.insert` many times, which has poor performance.  Consider joining all columns at once using pd.concat(axis=1) instead. To get a de-fragmented frame, use `newframe = frame.copy()`\n",
      "  input[list_columns] = input.galaxy.str.split(\"\", n=140, expand=True)\n",
      "/tmp/ipykernel_1201045/579590119.py:2: PerformanceWarning: DataFrame is highly fragmented.  This is usually the result of calling `frame.insert` many times, which has poor performance.  Consider joining all columns at once using pd.concat(axis=1) instead. To get a de-fragmented frame, use `newframe = frame.copy()`\n",
      "  input[list_columns] = input.galaxy.str.split(\"\", n=140, expand=True)\n",
      "/tmp/ipykernel_1201045/579590119.py:2: PerformanceWarning: DataFrame is highly fragmented.  This is usually the result of calling `frame.insert` many times, which has poor performance.  Consider joining all columns at once using pd.concat(axis=1) instead. To get a de-fragmented frame, use `newframe = frame.copy()`\n",
      "  input[list_columns] = input.galaxy.str.split(\"\", n=140, expand=True)\n",
      "/tmp/ipykernel_1201045/579590119.py:2: PerformanceWarning: DataFrame is highly fragmented.  This is usually the result of calling `frame.insert` many times, which has poor performance.  Consider joining all columns at once using pd.concat(axis=1) instead. To get a de-fragmented frame, use `newframe = frame.copy()`\n",
      "  input[list_columns] = input.galaxy.str.split(\"\", n=140, expand=True)\n",
      "/tmp/ipykernel_1201045/579590119.py:2: PerformanceWarning: DataFrame is highly fragmented.  This is usually the result of calling `frame.insert` many times, which has poor performance.  Consider joining all columns at once using pd.concat(axis=1) instead. To get a de-fragmented frame, use `newframe = frame.copy()`\n",
      "  input[list_columns] = input.galaxy.str.split(\"\", n=140, expand=True)\n"
     ]
    }
   ],
   "source": [
    "list_columns = list(range(0,len(input) + 1))\n",
    "input[list_columns] = input.galaxy.str.split(\"\", n=140, expand=True)\n",
    "input = input.drop([0], axis=1)\n",
    "list_columns.remove(0)"
   ]
  },
  {
   "cell_type": "code",
   "execution_count": 78,
   "metadata": {},
   "outputs": [],
   "source": [
    "n_add = 999999"
   ]
  },
  {
   "cell_type": "code",
   "execution_count": 79,
   "metadata": {},
   "outputs": [],
   "source": [
    "list_col_not_ok = []\n",
    "for col in list_columns:\n",
    "\n",
    "    if len(input[col].unique()) == 1:\n",
    "\n",
    "        list_col_not_ok.append(col)"
   ]
  },
  {
   "cell_type": "code",
   "execution_count": 80,
   "metadata": {},
   "outputs": [],
   "source": [
    "list_row_not_ok = []\n",
    "for i in range(len(input)):\n",
    "\n",
    "    string = input.galaxy[i]\n",
    "\n",
    "    n_list = len(set(list(string)))\n",
    "\n",
    "    if n_list == 1:\n",
    "\n",
    "       list_row_not_ok.append(i)"
   ]
  },
  {
   "cell_type": "code",
   "execution_count": 81,
   "metadata": {},
   "outputs": [],
   "source": [
    "input = input.drop(columns=['galaxy'], axis=1)"
   ]
  },
  {
   "cell_type": "code",
   "execution_count": 82,
   "metadata": {},
   "outputs": [],
   "source": [
    "n_col = 140\n",
    "while len(list_col_not_ok) != 0:\n",
    "\n",
    "    i = list_col_not_ok[0]\n",
    "    \n",
    "    list_col_after = [x for x in input.columns if x > i]\n",
    "    col_after = input[list_col_after]\n",
    "    col_after.columns = [x + n_add for x in list_col_after]\n",
    "    list_col_before = [x for x in input.columns if x <= i]\n",
    "    col_before = input[list_col_before]\n",
    "    # col_before[i+1] = col_before[i]\n",
    "    input = pd.concat([col_before.reset_index(drop=True), col_after], axis=1)\n",
    "    list_col_not_ok.remove(i)\n",
    "    list_col_not_ok = [x + n_add for x in list_col_not_ok]\n",
    "    n_col = n_col + n_add"
   ]
  },
  {
   "cell_type": "code",
   "execution_count": 83,
   "metadata": {},
   "outputs": [],
   "source": [
    "input['row'] = range(0,len(input))"
   ]
  },
  {
   "cell_type": "code",
   "execution_count": 84,
   "metadata": {},
   "outputs": [
    {
     "name": "stderr",
     "output_type": "stream",
     "text": [
      "/tmp/ipykernel_1201045/2665162424.py:12: FutureWarning: The frame.append method is deprecated and will be removed from pandas in a future version. Use pandas.concat instead.\n",
      "  input = row_above.append(row_below, ignore_index=True)\n"
     ]
    }
   ],
   "source": [
    "n_row = len(input)\n",
    "while len(list_row_not_ok) != 0:\n",
    "      \n",
    "      i = list_row_not_ok[0]\n",
    "    \n",
    "      row_above = input[input.row <= i]\n",
    "      row_below = input[input.row > i]\n",
    "      row_below = row_below.assign(\n",
    "        row = lambda x: x.row + n_add\n",
    "      )\n",
    "    #   row_above = row_above.append(input[i:i+1], ignore_index=True)\n",
    "      input = row_above.append(row_below, ignore_index=True)\n",
    "      list_row_not_ok.remove(i)\n",
    "      list_row_not_ok = [x + n_add for x in list_row_not_ok]\n",
    "      n_row = n_row + 1 "
   ]
  },
  {
   "cell_type": "code",
   "execution_count": 85,
   "metadata": {},
   "outputs": [],
   "source": [
    "input_long = pd.melt(input, id_vars='row', value_vars=[x for x in input.columns if x != 'row'])"
   ]
  },
  {
   "cell_type": "code",
   "execution_count": 86,
   "metadata": {},
   "outputs": [],
   "source": [
    "star_position = []"
   ]
  },
  {
   "cell_type": "code",
   "execution_count": 87,
   "metadata": {},
   "outputs": [],
   "source": [
    "for index, row in input_long.iterrows():\n",
    "\n",
    "    if row['value'] == \"#\":\n",
    "\n",
    "        row_position = row['row']\n",
    "        column_position = row['variable']\n",
    "\n",
    "        star_position.append([row_position, column_position])\n"
   ]
  },
  {
   "cell_type": "code",
   "execution_count": 88,
   "metadata": {},
   "outputs": [],
   "source": [
    "distance = 0 \n",
    "combination = 0\n",
    "i = 0\n",
    "while(len(star_position) != 0):\n",
    "\n",
    "    star_i = star_position[i]\n",
    "    list_stars_to_calculate = [x for x in star_position if x != star_i]\n",
    "\n",
    "    for star_to_calculate in list_stars_to_calculate:\n",
    "\n",
    "        manhattan_distance = abs(star_i[0] - star_to_calculate[0]) + abs(star_i[1] - star_to_calculate[1]) \n",
    "\n",
    "        distance = distance + manhattan_distance\n",
    "\n",
    "        combination = combination + 1\n",
    "            \n",
    "    star_position.remove(star_i)"
   ]
  },
  {
   "cell_type": "code",
   "execution_count": 89,
   "metadata": {},
   "outputs": [
    {
     "data": {
      "text/plain": [
       "458191688761"
      ]
     },
     "execution_count": 89,
     "metadata": {},
     "output_type": "execute_result"
    }
   ],
   "source": [
    "distance"
   ]
  }
 ],
 "metadata": {
  "kernelspec": {
   "display_name": "ngan",
   "language": "python",
   "name": "python3"
  },
  "language_info": {
   "codemirror_mode": {
    "name": "ipython",
    "version": 3
   },
   "file_extension": ".py",
   "mimetype": "text/x-python",
   "name": "python",
   "nbconvert_exporter": "python",
   "pygments_lexer": "ipython3",
   "version": "3.10.0"
  }
 },
 "nbformat": 4,
 "nbformat_minor": 2
}

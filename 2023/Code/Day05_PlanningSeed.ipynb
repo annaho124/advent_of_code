{
 "cells": [
  {
   "cell_type": "code",
   "execution_count": 1,
   "metadata": {},
   "outputs": [],
   "source": [
    "import pandas as pd"
   ]
  },
  {
   "cell_type": "code",
   "execution_count": 2,
   "metadata": {},
   "outputs": [],
   "source": [
    "demo_seed = \"79 14 55 13\"\n",
    "demo_seed_to_soil = pd.DataFrame({\n",
    "    'seed_to_soil': [\"50 98 2\",\n",
    "                     \"52 50 48\"]\n",
    "})\n",
    "demo_soil_to_fertilizer = pd.DataFrame({\n",
    "    'soil_to_fertilizer': [\"0 15 37\",\n",
    "                           \"37 52 2\",\n",
    "                           \"39 0 15\"]\n",
    "})\n",
    "demo_fertilizer_to_water = pd.DataFrame({\n",
    "    'fertilizer_to_water': [\"49 53 8\",\n",
    "                            \"0 11 42\",\n",
    "                            \"42 0 7\",\n",
    "                            \"57 7 4\"]\n",
    "})\n",
    "demo_water_to_light = pd.DataFrame({\n",
    "    'water_to_light': [\"88 18 7\",\n",
    "                        \"18 25 70\"]\n",
    "})\n",
    "demo_light_to_temperature = pd.DataFrame({\n",
    "    'light_to_temperature': [\"45 77 23\",\n",
    "                            \"81 45 19\",\n",
    "                            \"68 64 13\"]\n",
    "})\n",
    "demo_temperature_to_humidity = pd.DataFrame({\n",
    "    'temperature_to_humidity': [\"0 69 1\",\n",
    "                                \"1 0 69\"]\n",
    "})\n",
    "demo_humidity_to_location = pd.DataFrame({\n",
    "    'humidity_to_location' : [\"60 56 37\",\n",
    "                              \"56 93 4\"]\n",
    "})"
   ]
  },
  {
   "cell_type": "code",
   "execution_count": 2,
   "metadata": {},
   "outputs": [],
   "source": [
    "demo_seed = pd.read_excel('../DATA/Day05_PlanningSeed.xlsx', sheet_name=\"seeds\")\n",
    "demo_seed_to_soil = pd.read_excel('../DATA/Day05_PlanningSeed.xlsx', sheet_name=\"seed_to_soil\")\n",
    "demo_soil_to_fertilizer = pd.read_excel('../DATA/Day05_PlanningSeed.xlsx', sheet_name=\"soil_to_fertilizer\")\n",
    "demo_fertilizer_to_water = pd.read_excel('../DATA/Day05_PlanningSeed.xlsx', sheet_name=\"fertilizer_to_water\")\n",
    "demo_water_to_light = pd.read_excel('../DATA/Day05_PlanningSeed.xlsx', sheet_name=\"water_to_light\")\n",
    "demo_light_to_temperature = pd.read_excel('../DATA/Day05_PlanningSeed.xlsx', sheet_name=\"light_to_temperature\")\n",
    "demo_temperature_to_humidity = pd.read_excel('../DATA/Day05_PlanningSeed.xlsx', sheet_name=\"temperature_to_humidity\")\n",
    "demo_humidity_to_location = pd.read_excel('../DATA/Day05_PlanningSeed.xlsx', sheet_name=\"humidity_to_location\")"
   ]
  },
  {
   "cell_type": "markdown",
   "metadata": {},
   "source": [
    "# Part 1"
   ]
  },
  {
   "cell_type": "code",
   "execution_count": null,
   "metadata": {},
   "outputs": [],
   "source": [
    "string_seed = demo_seed.seeds[0]\n",
    "string_seed = string_seed.split(\" \")"
   ]
  },
  {
   "cell_type": "code",
   "execution_count": null,
   "metadata": {},
   "outputs": [],
   "source": [
    "# string_seed = demo_seed.split(\" \")\n",
    "seed_df = pd.DataFrame({\n",
    "    'seed': string_seed\n",
    "})\n",
    "seed_df['seed'] = seed_df['seed'].astype(int)\n",
    "# min_seed = seed_df['seed'].min()\n",
    "# max_seed = seed_df['seed'].max()\n",
    "\n",
    "# seed_need_to_create_data = pd.DataFrame({\n",
    "#     'seed': list(range(min_seed, max_seed + 1))\n",
    "# })\n",
    "\n",
    "# need_to_add = seed_df[~seed_df.seed.isin(seed_to_soil_df.seed)]\n",
    "# need_to_add['soil'] = need_to_add['seed']\n",
    "# need_to_add\n",
    "seed_df"
   ]
  },
  {
   "cell_type": "code",
   "execution_count": null,
   "metadata": {},
   "outputs": [],
   "source": [
    "# matching_dict = {\n",
    "#     'source': [],\n",
    "#     'destination': []\n",
    "# }\n",
    "\n",
    "# for i in seed_df.seed.to_list():\n",
    "\n",
    "#     for index, row in demo_seed_to_soil.iterrows():\n",
    "\n",
    "#         string_to_expand = row['seed_to_soil']\n",
    "#         string_to_expand = string_to_expand.split(\" \")\n",
    "\n",
    "#         start_destination = int(string_to_expand[0])\n",
    "#         start_source = int(string_to_expand[1])\n",
    "#         length = int(string_to_expand[2])\n",
    "#         list_source = list(range(start_source, start_source + length))\n",
    "\n",
    "#         if i in list_source:\n",
    "\n",
    "#             position = i - start_destination\n",
    "#             value_source = start_destination + position\n",
    "#             matching_dict['source'].append(i)\n",
    "#             matching_dict['destination'].append(value_source)\n",
    "\n",
    "# for index, row in demo_seed_to_soil.iterrows():\n",
    "\n",
    "#     string_to_expand = row['seed_to_soil']\n",
    "#     string_to_expand = string_to_expand.split(\" \")\n",
    "\n",
    "#     start_destination = int(string_to_expand[0])\n",
    "#     start_source = int(string_to_expand[1])\n",
    "#     length = int(string_to_expand[2])\n",
    "#     list_source = list(range(start_source, start_source + length))\n",
    "#     list_destination = list(range(start_destination, start_destination + length))\n",
    "\n",
    "#     for i in list_source:\n",
    "\n",
    "#         matching_dict['source'].append(i)\n",
    "\n",
    "#     for j in list_destination:\n",
    "\n",
    "#         matching_dict['destination'].append(j)\n"
   ]
  },
  {
   "cell_type": "code",
   "execution_count": 3,
   "metadata": {},
   "outputs": [],
   "source": [
    "def ConvertStringToMatchingTable(input_df,\n",
    "                                 need_to_add_df,\n",
    "                                 name_source,\n",
    "                                 name_destination,\n",
    "                                 column_name):\n",
    "\n",
    "    matching_dict = {\n",
    "        'source': [],\n",
    "        'destination': []\n",
    "    }\n",
    "\n",
    "    for i in need_to_add_df[name_source].to_list():\n",
    "\n",
    "        for index, row in input_df.iterrows():\n",
    "\n",
    "            string_to_expand = row[column_name]\n",
    "            string_to_expand = string_to_expand.split(\" \")\n",
    "\n",
    "            start_destination = int(string_to_expand[0])\n",
    "            start_source = int(string_to_expand[1])\n",
    "            length = int(string_to_expand[2])\n",
    "            # list_source = list(range(start_source, start_source + length))\n",
    "\n",
    "            if (i >= start_source) & (i < start_source + length):\n",
    "\n",
    "                position = i - start_source\n",
    "                value_source = start_destination + position\n",
    "                matching_dict['source'].append(i)\n",
    "                matching_dict['destination'].append(value_source)\n",
    "    \n",
    "    output_df = pd.DataFrame(matching_dict).rename(columns={\n",
    "        'source': name_source,\n",
    "        'destination': name_destination\n",
    "    })\n",
    "\n",
    "    need_to_add_df = need_to_add_df[~need_to_add_df[name_source].isin(output_df[name_source])]\n",
    "    need_to_add_df[name_destination] = need_to_add_df[name_source]\n",
    "    need_to_add_df = need_to_add_df[[name_source, name_destination]]\n",
    "    \n",
    "    output_df = pd.concat([output_df, need_to_add_df])\n",
    "\n",
    "    return output_df"
   ]
  },
  {
   "cell_type": "code",
   "execution_count": null,
   "metadata": {},
   "outputs": [],
   "source": [
    "seed_to_soil_df = ConvertStringToMatchingTable(input_df=demo_seed_to_soil,\n",
    "                                               need_to_add_df=seed_df,\n",
    "                                               name_source=\"seed\",\n",
    "                                               name_destination='soil',\n",
    "                                               column_name='seed_to_soil')\n",
    "\n",
    "output_seed = seed_df.merge(seed_to_soil_df, on='seed')"
   ]
  },
  {
   "cell_type": "code",
   "execution_count": null,
   "metadata": {},
   "outputs": [],
   "source": [
    "seed_to_soil_df = ConvertStringToMatchingTable(input_df=demo_seed_to_soil,\n",
    "                                               need_to_add_df=seed_df,\n",
    "                                               name_source=\"seed\",\n",
    "                                               name_destination='soil',\n",
    "                                               column_name='seed_to_soil')\n",
    "\n",
    "output_seed = seed_df.merge(seed_to_soil_df, on='seed')\n",
    "\n",
    "# soil_need_to_create = pd.DataFrame({\n",
    "#     'soil': list(range(min(output_seed.soil), max(output_seed.soil) + 1))\n",
    "# })\n",
    "\n",
    "soil_to_fertilizer_df = ConvertStringToMatchingTable(input_df=demo_soil_to_fertilizer,\n",
    "                                                need_to_add_df=output_seed,\n",
    "                                               name_source=\"soil\",\n",
    "                                               name_destination='fertilizer',\n",
    "                                               column_name='soil_to_fertilizer')\n",
    "\n",
    "output_seed = output_seed.merge(soil_to_fertilizer_df, on='soil')\n",
    "\n",
    "# fertilizer_need_to_create = pd.DataFrame({\n",
    "#     'fertilizer': list(range(min(output_seed.fertilizer), max(output_seed.fertilizer) + 1))\n",
    "# })\n",
    "\n",
    "fertilizer_to_water_df = ConvertStringToMatchingTable(input_df=demo_fertilizer_to_water,\n",
    "                                                     need_to_add_df=output_seed,\n",
    "                                               name_source=\"fertilizer\",\n",
    "                                               name_destination='water',\n",
    "                                               column_name='fertilizer_to_water')\n",
    "\n",
    "output_seed = output_seed.merge(fertilizer_to_water_df, on='fertilizer')\n",
    "\n",
    "# water_need_to_create = pd.DataFrame({\n",
    "#     'water': list(range(min(output_seed.water), max(output_seed.water) + 1))\n",
    "# })\n",
    "\n",
    "water_to_light_df = ConvertStringToMatchingTable(input_df=demo_water_to_light,\n",
    "                                                 need_to_add_df=output_seed,\n",
    "                                               name_source=\"water\",\n",
    "                                               name_destination='light',\n",
    "                                               column_name='water_to_light')\n",
    "\n",
    "output_seed = output_seed.merge(water_to_light_df, on='water')\n",
    "\n",
    "# light_need_to_create = pd.DataFrame({\n",
    "#     'light': list(range(min(output_seed.light), max(output_seed.light) + 1))\n",
    "# })\n",
    "\n",
    "light_to_temperature_df = ConvertStringToMatchingTable(input_df=demo_light_to_temperature,\n",
    "                                                       need_to_add_df=output_seed,\n",
    "                                               name_source=\"light\",\n",
    "                                               name_destination='temperature',\n",
    "                                               column_name='light_to_temperature')\n",
    "\n",
    "output_seed = output_seed.merge(light_to_temperature_df, on='light')\n",
    "\n",
    "# temperature_need_to_create = pd.DataFrame({\n",
    "#     'temperature': list(range(min(output_seed.temperature), max(output_seed.temperature) + 1))\n",
    "# })\n",
    "\n",
    "temperature_to_humidity_df = ConvertStringToMatchingTable(input_df=demo_temperature_to_humidity,\n",
    "                                                          need_to_add_df=output_seed,\n",
    "                                               name_source=\"temperature\",\n",
    "                                               name_destination='humidity',\n",
    "                                               column_name='temperature_to_humidity')\n",
    "\n",
    "output_seed = output_seed.merge(temperature_to_humidity_df, on='temperature')\n",
    "\n",
    "# humidity_need_to_create = pd.DataFrame({\n",
    "#     'humidity': list(range(min(output_seed.humidity), max(output_seed.humidity) + 1))\n",
    "# })\n",
    "\n",
    "humidity_to_location_df = ConvertStringToMatchingTable(input_df=demo_humidity_to_location,\n",
    "                                               need_to_add_df=output_seed,\n",
    "                                               name_source=\"humidity\",\n",
    "                                               name_destination='location',\n",
    "                                               column_name='humidity_to_location')\n",
    "\n",
    "output_seed = output_seed.merge(humidity_to_location_df, on='humidity')"
   ]
  },
  {
   "cell_type": "code",
   "execution_count": null,
   "metadata": {},
   "outputs": [],
   "source": [
    "output_seed"
   ]
  },
  {
   "cell_type": "markdown",
   "metadata": {},
   "source": [
    "# Part 2"
   ]
  },
  {
   "cell_type": "code",
   "execution_count": 3,
   "metadata": {},
   "outputs": [],
   "source": [
    "string_seed = demo_seed.seeds[0]\n",
    "string_seed = string_seed.split(\" \")\n",
    "# list_seed_to_plan = {\n",
    "#     'index': [],\n",
    "#     'range_seed': []\n",
    "# }"
   ]
  },
  {
   "cell_type": "code",
   "execution_count": 4,
   "metadata": {},
   "outputs": [],
   "source": [
    "seed_to_create = {\n",
    "    'seed': []\n",
    "}"
   ]
  },
  {
   "cell_type": "code",
   "execution_count": 7,
   "metadata": {},
   "outputs": [],
   "source": [
    "for i in range(len(string_seed)):\n",
    "\n",
    "    if i % 2 == 0:\n",
    "\n",
    "        value = string_seed[i:i+2]\n",
    "        start = int(value[0])\n",
    "        length = int(value[1])\n",
    "        seed_to_create['seed'].append(list(range(start, start + length)))"
   ]
  },
  {
   "cell_type": "code",
   "execution_count": null,
   "metadata": {},
   "outputs": [],
   "source": [
    "seed_df = pd.DataFrame(seed_to_create)"
   ]
  },
  {
   "cell_type": "code",
   "execution_count": 6,
   "metadata": {},
   "outputs": [
    {
     "data": {
      "text/plain": [
       "467769747"
      ]
     },
     "execution_count": 6,
     "metadata": {},
     "output_type": "execute_result"
    }
   ],
   "source": [
    "string_a = string_seed[0:2]\n",
    "\n",
    "start = int(string_a[0])\n",
    "length = int(string_a[1])\n",
    "\n",
    "len(list(range(start, start + length)))"
   ]
  },
  {
   "cell_type": "code",
   "execution_count": 24,
   "metadata": {},
   "outputs": [],
   "source": [
    "for i in range(len(string_seed)):\n",
    "\n",
    "\n",
    "    if i % 2 == 0:\n",
    "\n",
    "        value = string_seed[i:i+2]\n",
    "        start = int(value[0])\n",
    "        length = int(value[1])\n",
    "        list_seed_to_plan['range_seed'].append([start, start + length])\n",
    "        list_seed_to_plan['index'].append(int(i/2))\n"
   ]
  },
  {
   "cell_type": "code",
   "execution_count": 25,
   "metadata": {},
   "outputs": [
    {
     "data": {
      "text/plain": [
       "{'index': [0, 1, 2, 3, 4, 5, 6, 7, 8, 9],\n",
       " 'range_seed': [[929142010, 1396911757],\n",
       "  [2497466808, 2707633646],\n",
       "  [3768123711, 3801340507],\n",
       "  [1609270159, 1696240009],\n",
       "  [199555506, 578165338],\n",
       "  [1840685500, 2154695211],\n",
       "  [1740069852, 1776938107],\n",
       "  [2161129344, 2331619449],\n",
       "  [2869967743, 3135423108],\n",
       "  [3984276455, 4015467343]]}"
      ]
     },
     "execution_count": 25,
     "metadata": {},
     "output_type": "execute_result"
    }
   ],
   "source": [
    "list_seed_to_plan\n"
   ]
  },
  {
   "cell_type": "code",
   "execution_count": 29,
   "metadata": {},
   "outputs": [
    {
     "data": {
      "text/plain": [
       "[929142010, 1396911757]"
      ]
     },
     "execution_count": 29,
     "metadata": {},
     "output_type": "execute_result"
    }
   ],
   "source": [
    "range_source_to_match = list_seed_to_plan['range_seed'][0]\n",
    "range_source_to_match"
   ]
  },
  {
   "cell_type": "code",
   "execution_count": 30,
   "metadata": {},
   "outputs": [
    {
     "data": {
      "text/plain": [
       "467769747"
      ]
     },
     "execution_count": 30,
     "metadata": {},
     "output_type": "execute_result"
    }
   ],
   "source": [
    "len(range(range_source_to_match[0], range_source_to_match[1]))"
   ]
  },
  {
   "cell_type": "code",
   "execution_count": 36,
   "metadata": {},
   "outputs": [],
   "source": [
    "# start = range_source_to_match[0]\n",
    "# end = range_source_to_match[1]\n",
    "# seed_to_soil_dict = {\n",
    "#     'seed_start': [],\n",
    "#     'seed_end': [],\n",
    "#     'soil_start': [],\n",
    "#     'soil_end': []\n",
    "# }\n",
    "\n",
    "# for index, row in demo_seed_to_soil.iterrows():\n",
    "\n",
    "#     range_dest_to_match = row['seed_to_soil']\n",
    "#     range_dest_to_match = range_dest_to_match.split(\" \")\n",
    "\n",
    "#     start_destination = int(range_dest_to_match[0])\n",
    "#     start_source = int(range_dest_to_match[1])\n",
    "#     length = int(range_dest_to_match[2])\n",
    "#     end_source = start_source + length\n",
    "#     end_destination = start_destination + length\n",
    "\n",
    "#     seed_to_soil_dict['seed_start'].append(start_source)\n",
    "#     seed_to_soil_dict['seed_end'].append(end_source)\n",
    "#     seed_to_soil_dict['soil_start'].append(start_destination)\n",
    "#     seed_to_soil_dict['soil_end'].append(end_destination)\n",
    "\n",
    "\n",
    "# seed_to_soil_df = pd.DataFrame(seed_to_soil_dict)"
   ]
  },
  {
   "cell_type": "code",
   "execution_count": 37,
   "metadata": {},
   "outputs": [],
   "source": [
    "def TransformDataInput(data,\n",
    "                       column_name):\n",
    "\n",
    "    output_dict = {\n",
    "        'source_start': [],\n",
    "        'source_end': [],\n",
    "        'dest_start': [],\n",
    "        'dest_end': []\n",
    "        }\n",
    "\n",
    "    for index, row in data.iterrows():\n",
    "\n",
    "        range_dest_to_match = row[column_name]\n",
    "        range_dest_to_match = range_dest_to_match.split(\" \")\n",
    "\n",
    "        start_destination = int(range_dest_to_match[0])\n",
    "        start_source = int(range_dest_to_match[1])\n",
    "        length = int(range_dest_to_match[2])\n",
    "        end_source = start_source + length\n",
    "        end_destination = start_destination + length\n",
    "\n",
    "        output_dict['source_start'].append(start_source)\n",
    "        output_dict['source_end'].append(end_source)\n",
    "        output_dict['dest_start'].append(start_destination)\n",
    "        output_dict['dest_end'].append(end_destination)\n",
    "\n",
    "\n",
    "    output_df = pd.DataFrame(output_dict)\n",
    "    \n",
    "    return output_df"
   ]
  },
  {
   "cell_type": "code",
   "execution_count": 38,
   "metadata": {},
   "outputs": [],
   "source": [
    "seed_to_soil_df = TransformDataInput(demo_seed_to_soil,\n",
    "                                     'seed_to_soil')\n",
    "\n",
    "soil_to_fertilizer_df = TransformDataInput(demo_soil_to_fertilizer,\n",
    "                                           'soil_to_fertilizer')\n",
    "\n",
    "fertilizer_to_water_df = TransformDataInput(demo_fertilizer_to_water,\n",
    "                                            'fertilizer_to_water')\n",
    "\n",
    "water_to_light_df = TransformDataInput(demo_water_to_light,\n",
    "                                       'water_to_light')\n",
    "\n",
    "light_to_temperature_df = TransformDataInput(demo_light_to_temperature,\n",
    "                                             'light_to_temperature')\n",
    "\n",
    "temperature_to_humidity_df = TransformDataInput(demo_temperature_to_humidity,\n",
    "                                                'temperature_to_humidity')\n",
    "\n",
    "humidity_to_location_df = TransformDataInput(demo_humidity_to_location,\n",
    "                                             'humidity_to_location')"
   ]
  }
 ],
 "metadata": {
  "kernelspec": {
   "display_name": "ngan",
   "language": "python",
   "name": "python3"
  },
  "language_info": {
   "codemirror_mode": {
    "name": "ipython",
    "version": 3
   },
   "file_extension": ".py",
   "mimetype": "text/x-python",
   "name": "python",
   "nbconvert_exporter": "python",
   "pygments_lexer": "ipython3",
   "version": "3.1.0"
  }
 },
 "nbformat": 4,
 "nbformat_minor": 2
}

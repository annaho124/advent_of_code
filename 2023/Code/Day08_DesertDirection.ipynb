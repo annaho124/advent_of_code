{
 "cells": [
  {
   "cell_type": "code",
   "execution_count": 15,
   "metadata": {},
   "outputs": [],
   "source": [
    "import pandas as pd"
   ]
  },
  {
   "cell_type": "markdown",
   "metadata": {},
   "source": [
    "# Part 1"
   ]
  },
  {
   "cell_type": "code",
   "execution_count": 16,
   "metadata": {},
   "outputs": [],
   "source": [
    "direction = \"LRLRRRLRRLRLLRRRLRRLLRRRLLRLRRLLRRRLRLRRRLRRLRRLRRLLLLRRRLRRLRRRLRRRLRRRLRLRRRLRLLRRRLLRLRRRLRRRLRLRRLLRLLRRLRLLRRRLLRRLRLLLRLRLRLLRRRLRLRLRRLRRRLRRLRLRRRLRRRLRRRLLLLRLLRRLLRRRLRRLRRLLRRLRRRLLRRLLLRRRLRLRLLRRLRRRLRRLRRRLLRLRRRLRLLRLLRRRLRRLLRLRRRLRRLRRRLRRLRRLRRRLRRLRRRR\"\n",
    "map = pd.read_excel(\"../DATA/Day08_DesertDirection.xlsx\")"
   ]
  },
  {
   "cell_type": "code",
   "execution_count": 17,
   "metadata": {},
   "outputs": [],
   "source": [
    "map[['location', 'network']] = map.input.str.split(\" = \", n=1, expand=True)\n",
    "map[['left', 'right']] = map.network.str.split(\", \", n=1, expand=True)\n",
    "map['left'] = map['left'].apply(lambda x: x[1:])\n",
    "map['right'] = map['right'].apply(lambda x: x[:-1])\n",
    "map = map[['location', 'left', 'right']]"
   ]
  },
  {
   "cell_type": "code",
   "execution_count": 32,
   "metadata": {},
   "outputs": [],
   "source": [
    "direction_3_times = direction*100000\n",
    "position = \"AAA\"\n",
    "step = 0\n",
    "while position != \"ZZZ\":\n",
    "\n",
    "    next_step = map[map.location == position].reset_index()\n",
    "    step_to_move = direction_3_times[step]\n",
    "    if step_to_move == \"L\":\n",
    "\n",
    "        position = next_step.left[0]\n",
    "    else:\n",
    "        position = next_step.right[0]\n",
    "\n",
    "    step = step + 1\n"
   ]
  },
  {
   "cell_type": "markdown",
   "metadata": {},
   "source": [
    "# Part 2"
   ]
  },
  {
   "cell_type": "code",
   "execution_count": 27,
   "metadata": {},
   "outputs": [],
   "source": [
    "position_start = map[map.location.str.endswith(\"A\")].location.unique().tolist()"
   ]
  },
  {
   "cell_type": "code",
   "execution_count": 28,
   "metadata": {},
   "outputs": [],
   "source": [
    "def CheckPositionEndWithZ(data_map,\n",
    "                          direction,\n",
    "                          string_input,\n",
    "                          step):\n",
    "    \n",
    "    next_step = data_map[data_map.location == string_input].reset_index()\n",
    "    step_to_move = direction[step]\n",
    "\n",
    "    if step_to_move == \"L\":\n",
    "\n",
    "        position = next_step.left[0]\n",
    "    else:\n",
    "        position = next_step.right[0]\n",
    "\n",
    "    \n",
    "    is_end_with_z = position.endswith(\"Z\")\n",
    "\n",
    "    return position, is_end_with_z\n",
    "    "
   ]
  },
  {
   "cell_type": "code",
   "execution_count": 33,
   "metadata": {},
   "outputs": [],
   "source": [
    "position_1 = position_start[0]\n",
    "position_2 = position_start[1]\n",
    "position_3 = position_start[2]\n",
    "position_4 = position_start[3]\n",
    "position_5 = position_start[4]\n",
    "position_6 = position_start[5]\n",
    "end_with_z_1 = position_1.endswith(\"Z\")\n",
    "end_with_z_2 = position_2.endswith(\"Z\")\n",
    "end_with_z_3 = position_3.endswith(\"Z\")\n",
    "end_with_z_4 = position_4.endswith(\"Z\")\n",
    "end_with_z_5 = position_5.endswith(\"Z\")\n",
    "end_with_z_6 = position_6.endswith(\"Z\")\n",
    "step = 0"
   ]
  },
  {
   "cell_type": "code",
   "execution_count": 34,
   "metadata": {},
   "outputs": [],
   "source": [
    "while end_with_z_1 + end_with_z_2 + end_with_z_3 + end_with_z_4 + end_with_z_5 + end_with_z_6 != 6:\n",
    "\n",
    "    position_1, end_with_z_1 = CheckPositionEndWithZ(data_map=map,\n",
    "                                                     direction=direction_3_times,\n",
    "                                                     string_input=position_1,\n",
    "                                                     step=step)\n",
    "    position_2, end_with_z_2 = CheckPositionEndWithZ(data_map=map,\n",
    "                                                     direction=direction_3_times,\n",
    "                                                     string_input=position_2,\n",
    "                                                     step=step)\n",
    "    \n",
    "    position_3, end_with_z_3 = CheckPositionEndWithZ(data_map=map,\n",
    "                                                     direction=direction_3_times,\n",
    "                                                     string_input=position_3,\n",
    "                                                     step=step)\n",
    "    \n",
    "    position_4, end_with_z_4 = CheckPositionEndWithZ(data_map=map,\n",
    "                                                     direction=direction_3_times,\n",
    "                                                     string_input=position_4,\n",
    "                                                     step=step)\n",
    "    \n",
    "    position_5, end_with_z_5 = CheckPositionEndWithZ(data_map=map,\n",
    "                                                     direction=direction_3_times,\n",
    "                                                     string_input=position_5,\n",
    "                                                     step=step)\n",
    "    \n",
    "    position_6, end_with_z_6 = CheckPositionEndWithZ(data_map=map,\n",
    "                                                     direction=direction_3_times,\n",
    "                                                     string_input=position_6,\n",
    "                                                     step=step)\n",
    "    \n",
    "    step = step + 1"
   ]
  }
 ],
 "metadata": {
  "kernelspec": {
   "display_name": "ngan",
   "language": "python",
   "name": "python3"
  },
  "language_info": {
   "codemirror_mode": {
    "name": "ipython",
    "version": 3
   },
   "file_extension": ".py",
   "mimetype": "text/x-python",
   "name": "python",
   "nbconvert_exporter": "python",
   "pygments_lexer": "ipython3",
   "version": "3.10.0"
  }
 },
 "nbformat": 4,
 "nbformat_minor": 2
}

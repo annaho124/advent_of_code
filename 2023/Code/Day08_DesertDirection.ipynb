{
 "cells": [
  {
   "cell_type": "code",
   "execution_count": 17,
   "metadata": {},
   "outputs": [],
   "source": [
    "import pandas as pd\n",
    "from math import gcd"
   ]
  },
  {
   "cell_type": "markdown",
   "metadata": {},
   "source": [
    "# Part 1"
   ]
  },
  {
   "cell_type": "code",
   "execution_count": 2,
   "metadata": {},
   "outputs": [],
   "source": [
    "direction = \"LRLRRRLRRLRLLRRRLRRLLRRRLLRLRRLLRRRLRLRRRLRRLRRLRRLLLLRRRLRRLRRRLRRRLRRRLRLRRRLRLLRRRLLRLRRRLRRRLRLRRLLRLLRRLRLLRRRLLRRLRLLLRLRLRLLRRRLRLRLRRLRRRLRRLRLRRRLRRRLRRRLLLLRLLRRLLRRRLRRLRRLLRRLRRRLLRRLLLRRRLRLRLLRRLRRRLRRLRRRLLRLRRRLRLLRLLRRRLRRLLRLRRRLRRLRRRLRRLRRLRRRLRRLRRRR\"\n",
    "map = pd.read_excel(\"../DATA/Day08_DesertDirection.xlsx\")"
   ]
  },
  {
   "cell_type": "code",
   "execution_count": 3,
   "metadata": {},
   "outputs": [],
   "source": [
    "map[['location', 'network']] = map.input.str.split(\" = \", n=1, expand=True)\n",
    "map[['left', 'right']] = map.network.str.split(\", \", n=1, expand=True)\n",
    "map['left'] = map['left'].apply(lambda x: x[1:])\n",
    "map['right'] = map['right'].apply(lambda x: x[:-1])\n",
    "map = map[['location', 'left', 'right']]"
   ]
  },
  {
   "cell_type": "code",
   "execution_count": null,
   "metadata": {},
   "outputs": [],
   "source": [
    "direction_3_times = direction*3\n",
    "position = \"AAA\"\n",
    "step = 0\n",
    "while position != \"ZZZ\":\n",
    "\n",
    "    next_step = map[map.location == position].reset_index()\n",
    "    step_to_move = direction_3_times[step]\n",
    "    if step_to_move == \"L\":\n",
    "\n",
    "        position = next_step.left[0]\n",
    "    else:\n",
    "        position = next_step.right[0]\n",
    "\n",
    "    step = step + 1\n"
   ]
  },
  {
   "cell_type": "markdown",
   "metadata": {},
   "source": [
    "# Part 2"
   ]
  },
  {
   "cell_type": "code",
   "execution_count": 4,
   "metadata": {},
   "outputs": [],
   "source": [
    "position_start = map[map.location.str.endswith(\"A\")].location.unique().tolist()"
   ]
  },
  {
   "cell_type": "code",
   "execution_count": 5,
   "metadata": {},
   "outputs": [],
   "source": [
    "direction_3_times = direction*200000000"
   ]
  },
  {
   "cell_type": "code",
   "execution_count": 6,
   "metadata": {},
   "outputs": [],
   "source": [
    "map_dict = {}\n",
    "for index, row in map.iterrows():\n",
    "\n",
    "    position = str(row['location'])\n",
    "    navigation = [row['left'], row['right']]\n",
    "    map_dict[position] = navigation"
   ]
  },
  {
   "cell_type": "code",
   "execution_count": 7,
   "metadata": {},
   "outputs": [],
   "source": [
    "def CheckPositionEndWithZ(data_map,\n",
    "                          direction,\n",
    "                          string_input,\n",
    "                          step):\n",
    "    \n",
    "    next_step = data_map[string_input]\n",
    "    step_to_move = direction[step]\n",
    "\n",
    "    if step_to_move == \"L\":\n",
    "\n",
    "        position = next_step[0]\n",
    "    else:\n",
    "        position = next_step[1]\n",
    "\n",
    "    \n",
    "    is_end_with_z = position.endswith(\"Z\")\n",
    "\n",
    "    return position, is_end_with_z\n",
    "    "
   ]
  },
  {
   "cell_type": "code",
   "execution_count": 10,
   "metadata": {},
   "outputs": [],
   "source": [
    "position_1 = position_start[0]\n",
    "position_2 = position_start[1]\n",
    "position_3 = position_start[2]\n",
    "position_4 = position_start[3]\n",
    "position_5 = position_start[4]\n",
    "position_6 = position_start[5]\n",
    "end_with_z_1 = position_1.endswith(\"Z\")\n",
    "end_with_z_2 = position_2.endswith(\"Z\")\n",
    "end_with_z_3 = position_3.endswith(\"Z\")\n",
    "end_with_z_4 = position_4.endswith(\"Z\")\n",
    "end_with_z_5 = position_5.endswith(\"Z\")\n",
    "end_with_z_6 = position_6.endswith(\"Z\")\n",
    "step = 0"
   ]
  },
  {
   "cell_type": "code",
   "execution_count": null,
   "metadata": {},
   "outputs": [],
   "source": [
    "while end_with_z_1 + end_with_z_2 + end_with_z_3 + end_with_z_4 + end_with_z_5 + end_with_z_6 != 6:\n",
    "\n",
    "    # print(\"Start running step\", step)\n",
    "\n",
    "    position_1, end_with_z_1 = CheckPositionEndWithZ(data_map=map_dict,\n",
    "                                                     direction=direction_3_times,\n",
    "                                                     string_input=position_1,\n",
    "                                                     step=step)\n",
    "    \n",
    "    if end_with_z_1 == 0:\n",
    "\n",
    "        step = step + 1\n",
    "        continue\n",
    "\n",
    "    position_2, end_with_z_2 = CheckPositionEndWithZ(data_map=map_dict,\n",
    "                                                     direction=direction_3_times,\n",
    "                                                     string_input=position_2,\n",
    "                                                     step=step)\n",
    "    if end_with_z_2 == 0:\n",
    "\n",
    "        step = step + 1\n",
    "        continue\n",
    "    \n",
    "    position_3, end_with_z_3 = CheckPositionEndWithZ(data_map=map_dict,\n",
    "                                                     direction=direction_3_times,\n",
    "                                                     string_input=position_3,\n",
    "                                                     step=step)\n",
    "\n",
    "    if end_with_z_3 == 0:\n",
    "\n",
    "        step = step + 1\n",
    "        continue\n",
    "\n",
    "    position_4, end_with_z_4 = CheckPositionEndWithZ(data_map=map_dict,\n",
    "                                                     direction=direction_3_times,\n",
    "                                                     string_input=position_4,\n",
    "                                                     step=step)\n",
    "\n",
    "    if end_with_z_4 == 0:\n",
    "\n",
    "        step = step + 1\n",
    "        continue\n",
    "\n",
    "    position_5, end_with_z_5 = CheckPositionEndWithZ(data_map=map_dict,\n",
    "                                                     direction=direction_3_times,\n",
    "                                                     string_input=position_5,\n",
    "                                                     step=step)\n",
    "\n",
    "    if end_with_z_5 == 0:\n",
    "\n",
    "        step = step + 1\n",
    "        continue\n",
    "\n",
    "    position_6, end_with_z_6 = CheckPositionEndWithZ(data_map=map_dict,\n",
    "                                                     direction=direction_3_times,\n",
    "                                                     string_input=position_6,\n",
    "                                                     step=step)\n",
    "    \n",
    "    step = step + 1"
   ]
  },
  {
   "cell_type": "markdown",
   "metadata": {},
   "source": [
    "## Find the minimum step to reach the Z for each A"
   ]
  },
  {
   "cell_type": "code",
   "execution_count": 11,
   "metadata": {},
   "outputs": [
    {
     "name": "stdout",
     "output_type": "stream",
     "text": [
      "21409\n"
     ]
    }
   ],
   "source": [
    "step = 0\n",
    "while end_with_z_1 != 1:\n",
    "\n",
    "    # print(\"Start running step\", step)\n",
    "\n",
    "    position_1, end_with_z_1 = CheckPositionEndWithZ(data_map=map_dict,\n",
    "                                                     direction=direction_3_times,\n",
    "                                                     string_input=position_1,\n",
    "                                                     step=step)\n",
    "    \n",
    "    step = step + 1\n",
    "\n",
    "print(step)"
   ]
  },
  {
   "cell_type": "code",
   "execution_count": 12,
   "metadata": {},
   "outputs": [
    {
     "name": "stdout",
     "output_type": "stream",
     "text": [
      "11653\n"
     ]
    }
   ],
   "source": [
    "step = 0\n",
    "while end_with_z_2 != 1:\n",
    "\n",
    "    # print(\"Start running step\", step)\n",
    "\n",
    "    position_2, end_with_z_2 = CheckPositionEndWithZ(data_map=map_dict,\n",
    "                                                     direction=direction_3_times,\n",
    "                                                     string_input=position_2,\n",
    "                                                     step=step)\n",
    "    \n",
    "    step = step + 1\n",
    "\n",
    "print(step)"
   ]
  },
  {
   "cell_type": "code",
   "execution_count": 13,
   "metadata": {},
   "outputs": [
    {
     "name": "stdout",
     "output_type": "stream",
     "text": [
      "19241\n"
     ]
    }
   ],
   "source": [
    "step = 0\n",
    "while end_with_z_3 != 1:\n",
    "\n",
    "    # print(\"Start running step\", step)\n",
    "\n",
    "    position_3, end_with_z_3 = CheckPositionEndWithZ(data_map=map_dict,\n",
    "                                                     direction=direction_3_times,\n",
    "                                                     string_input=position_3,\n",
    "                                                     step=step)\n",
    "    \n",
    "    step = step + 1\n",
    "\n",
    "print(step)"
   ]
  },
  {
   "cell_type": "code",
   "execution_count": 14,
   "metadata": {},
   "outputs": [
    {
     "name": "stdout",
     "output_type": "stream",
     "text": [
      "12737\n"
     ]
    }
   ],
   "source": [
    "step = 0\n",
    "while end_with_z_4 != 1:\n",
    "\n",
    "    # print(\"Start running step\", step)\n",
    "\n",
    "    position_4, end_with_z_4 = CheckPositionEndWithZ(data_map=map_dict,\n",
    "                                                     direction=direction_3_times,\n",
    "                                                     string_input=position_4,\n",
    "                                                     step=step)\n",
    "    \n",
    "    step = step + 1\n",
    "\n",
    "print(step)"
   ]
  },
  {
   "cell_type": "code",
   "execution_count": 15,
   "metadata": {},
   "outputs": [
    {
     "name": "stdout",
     "output_type": "stream",
     "text": [
      "14363\n"
     ]
    }
   ],
   "source": [
    "step = 0\n",
    "while end_with_z_5 != 1:\n",
    "\n",
    "    # print(\"Start running step\", step)\n",
    "\n",
    "    position_5, end_with_z_5 = CheckPositionEndWithZ(data_map=map_dict,\n",
    "                                                     direction=direction_3_times,\n",
    "                                                     string_input=position_5,\n",
    "                                                     step=step)\n",
    "    \n",
    "    step = step + 1\n",
    "\n",
    "print(step)"
   ]
  },
  {
   "cell_type": "code",
   "execution_count": 16,
   "metadata": {},
   "outputs": [
    {
     "name": "stdout",
     "output_type": "stream",
     "text": [
      "15989\n"
     ]
    }
   ],
   "source": [
    "step = 0\n",
    "while end_with_z_6 != 1:\n",
    "\n",
    "    # print(\"Start running step\", step)\n",
    "\n",
    "    position_6, end_with_z_6 = CheckPositionEndWithZ(data_map=map_dict,\n",
    "                                                     direction=direction_3_times,\n",
    "                                                     string_input=position_6,\n",
    "                                                     step=step)\n",
    "    \n",
    "    step = step + 1\n",
    "\n",
    "print(step)"
   ]
  },
  {
   "cell_type": "code",
   "execution_count": 18,
   "metadata": {},
   "outputs": [
    {
     "name": "stdout",
     "output_type": "stream",
     "text": [
      "9606140307013\n"
     ]
    }
   ],
   "source": [
    "a = [21409, 11653, 19241, 12737, 14363, 15989]   #will work for an int array of any length\n",
    "lcm = 1\n",
    "for i in a:\n",
    "    lcm = lcm*i//gcd(lcm, i)\n",
    "print(lcm)"
   ]
  },
  {
   "cell_type": "code",
   "execution_count": null,
   "metadata": {},
   "outputs": [],
   "source": [
    "list_to_check = []\n",
    "for i in range(1,1000):\n",
    "\n",
    "    step_to_check = lcm*i\n",
    "    list_to_check.append(step_to_check)"
   ]
  },
  {
   "cell_type": "code",
   "execution_count": 23,
   "metadata": {},
   "outputs": [
    {
     "data": {
      "text/plain": [
       "35447012203.0"
      ]
     },
     "execution_count": 23,
     "metadata": {},
     "output_type": "execute_result"
    }
   ],
   "source": [
    "lcm/271"
   ]
  }
 ],
 "metadata": {
  "kernelspec": {
   "display_name": "ngan",
   "language": "python",
   "name": "python3"
  },
  "language_info": {
   "codemirror_mode": {
    "name": "ipython",
    "version": 3
   },
   "file_extension": ".py",
   "mimetype": "text/x-python",
   "name": "python",
   "nbconvert_exporter": "python",
   "pygments_lexer": "ipython3",
   "version": "3.10.0"
  }
 },
 "nbformat": 4,
 "nbformat_minor": 2
}

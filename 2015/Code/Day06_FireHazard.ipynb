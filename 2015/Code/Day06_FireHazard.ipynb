{
 "cells": [
  {
   "cell_type": "code",
   "execution_count": 1,
   "metadata": {},
   "outputs": [],
   "source": [
    "import pandas as pd\n",
    "import re"
   ]
  },
  {
   "cell_type": "code",
   "execution_count": 2,
   "metadata": {},
   "outputs": [],
   "source": [
    "input = pd.read_excel(\"../DATA/Day06_TurnOnTheLights.xlsx\")"
   ]
  },
  {
   "cell_type": "markdown",
   "metadata": {},
   "source": [
    "# Part 1"
   ]
  },
  {
   "cell_type": "code",
   "execution_count": 3,
   "metadata": {},
   "outputs": [
    {
     "data": {
      "text/plain": [
       "'turn on 887,9 through 959,629'"
      ]
     },
     "execution_count": 3,
     "metadata": {},
     "output_type": "execute_result"
    }
   ],
   "source": [
    "txt = input['instruction'][0]\n",
    "txt"
   ]
  },
  {
   "cell_type": "code",
   "execution_count": 4,
   "metadata": {},
   "outputs": [],
   "source": [
    "work_dict = {\n",
    "    'action': [],\n",
    "    'begin' : [],\n",
    "    'end'   : []\n",
    "}\n",
    "\n",
    "for index, row in input.iterrows():\n",
    "\n",
    "    work_dict['action'].append(re.search(r\"(.+?)\\s\\d\", row['instruction']).group(1))\n",
    "    work_dict['begin'].append(re.findall(r\"(\\d+,\\d+)\", row['instruction'])[0])\n",
    "    work_dict['end'].append(re.findall(r\"(\\d+,\\d+)\", row['instruction'])[1])\n",
    "\n",
    "work_df = pd.DataFrame(work_dict)"
   ]
  },
  {
   "cell_type": "code",
   "execution_count": 5,
   "metadata": {},
   "outputs": [],
   "source": [
    "time_to_repeat = 1000\n",
    "string = \"0\" * time_to_repeat\n",
    "lights = []\n",
    "for i in range(1000):\n",
    "\n",
    "    lights.append(string)"
   ]
  },
  {
   "cell_type": "code",
   "execution_count": 6,
   "metadata": {},
   "outputs": [
    {
     "data": {
      "text/html": [
       "<div>\n",
       "<style scoped>\n",
       "    .dataframe tbody tr th:only-of-type {\n",
       "        vertical-align: middle;\n",
       "    }\n",
       "\n",
       "    .dataframe tbody tr th {\n",
       "        vertical-align: top;\n",
       "    }\n",
       "\n",
       "    .dataframe thead th {\n",
       "        text-align: right;\n",
       "    }\n",
       "</style>\n",
       "<table border=\"1\" class=\"dataframe\">\n",
       "  <thead>\n",
       "    <tr style=\"text-align: right;\">\n",
       "      <th></th>\n",
       "      <th>action</th>\n",
       "      <th>begin</th>\n",
       "      <th>end</th>\n",
       "    </tr>\n",
       "  </thead>\n",
       "  <tbody>\n",
       "    <tr>\n",
       "      <th>0</th>\n",
       "      <td>turn on</td>\n",
       "      <td>887,9</td>\n",
       "      <td>959,629</td>\n",
       "    </tr>\n",
       "  </tbody>\n",
       "</table>\n",
       "</div>"
      ],
      "text/plain": [
       "    action  begin      end\n",
       "0  turn on  887,9  959,629"
      ]
     },
     "execution_count": 6,
     "metadata": {},
     "output_type": "execute_result"
    }
   ],
   "source": [
    "work_df.head(1)"
   ]
  },
  {
   "cell_type": "code",
   "execution_count": 7,
   "metadata": {},
   "outputs": [],
   "source": [
    "# begin = re.findall('(.*),(.*)', work_df['begin'][0])\n",
    "# x1 = int(begin[0][0])\n",
    "# y1 = int(begin[0][1])\n",
    "\n",
    "# end = re.findall('(.*),(.*)', work_df['end'][0])\n",
    "# x2 = int(end[0][0])\n",
    "# y2 = int(end[0][1])"
   ]
  },
  {
   "cell_type": "code",
   "execution_count": 8,
   "metadata": {},
   "outputs": [
    {
     "ename": "NameError",
     "evalue": "name 'x1' is not defined",
     "output_type": "error",
     "traceback": [
      "\u001b[0;31m---------------------------------------------------------------------------\u001b[0m",
      "\u001b[0;31mNameError\u001b[0m                                 Traceback (most recent call last)",
      "Cell \u001b[0;32mIn[8], line 1\u001b[0m\n\u001b[0;32m----> 1\u001b[0m \u001b[38;5;28;01mfor\u001b[39;00m i \u001b[38;5;129;01min\u001b[39;00m \u001b[38;5;28mrange\u001b[39m(\u001b[43mx1\u001b[49m, x2 \u001b[38;5;241m+\u001b[39m \u001b[38;5;241m1\u001b[39m):\n\u001b[1;32m      3\u001b[0m     lights[i] \u001b[38;5;241m=\u001b[39m lights[i][:y1] \u001b[38;5;241m+\u001b[39m \u001b[38;5;124m\"\u001b[39m\u001b[38;5;124m1\u001b[39m\u001b[38;5;124m\"\u001b[39m\u001b[38;5;241m*\u001b[39m\u001b[38;5;28mlen\u001b[39m(\u001b[38;5;28mrange\u001b[39m(y1, y2 \u001b[38;5;241m+\u001b[39m \u001b[38;5;241m1\u001b[39m)) \u001b[38;5;241m+\u001b[39m lights[i][y2 \u001b[38;5;241m+\u001b[39m \u001b[38;5;241m1\u001b[39m:]\n",
      "\u001b[0;31mNameError\u001b[0m: name 'x1' is not defined"
     ]
    }
   ],
   "source": [
    "# for i in range(x1, x2 + 1):\n",
    "\n",
    "#     lights[i] = lights[i][:y1] + \"1\"*len(range(y1, y2 + 1)) + lights[i][y2 + 1:]\n"
   ]
  },
  {
   "cell_type": "code",
   "execution_count": 53,
   "metadata": {},
   "outputs": [],
   "source": [
    "def turn_on(matrix, begin, end):\n",
    "\n",
    "    begin = re.findall('(.*),(.*)', begin)\n",
    "    x1 = int(begin[0][0])\n",
    "    y1 = int(begin[0][1])\n",
    "\n",
    "    end = re.findall('(.*),(.*)', end)\n",
    "    x2 = int(end[0][0])\n",
    "    y2 = int(end[0][1])\n",
    "\n",
    "    for i in range(x1, x2 + 1):\n",
    "\n",
    "        matrix[i] = matrix[i][:y1] + \"1\"*len(range(y1, y2 + 1)) + matrix[i][y2 + 1:]\n",
    "\n",
    "    return matrix\n",
    "\n",
    "def turn_off(matrix, begin, end):\n",
    "\n",
    "    begin = re.findall('(.*),(.*)', begin)\n",
    "    x1 = int(begin[0][0])\n",
    "    y1 = int(begin[0][1])\n",
    "\n",
    "    end = re.findall('(.*),(.*)', end)\n",
    "    x2 = int(end[0][0])\n",
    "    y2 = int(end[0][1])\n",
    "\n",
    "    for i in range(x1, x2 + 1):\n",
    "\n",
    "        matrix[i] = matrix[i][:y1] + \"0\"*len(range(y1, y2 + 1)) + matrix[i][y2 + 1:]\n",
    "\n",
    "    return matrix\n",
    "\n",
    "def toggle(matrix, begin, end):\n",
    "\n",
    "    begin = re.findall('(.*),(.*)', begin)\n",
    "    x1 = int(begin[0][0])\n",
    "    y1 = int(begin[0][1])\n",
    "\n",
    "    end = re.findall('(.*),(.*)', end)\n",
    "    x2 = int(end[0][0])\n",
    "    y2 = int(end[0][1])\n",
    "\n",
    "    for i in range(x1, x2 + 1):\n",
    "\n",
    "        for j in range(y1, y2 + 1):\n",
    "\n",
    "            if matrix[i][j] == '0':\n",
    "\n",
    "                matrix[i] = matrix[i][:j] + \"1\" + matrix[i][j+1:]\n",
    "            \n",
    "            else:\n",
    "                matrix[i] = matrix[i][:j] + \"0\" + matrix[i][j+1:]\n",
    "\n",
    "    return matrix"
   ]
  },
  {
   "cell_type": "code",
   "execution_count": 54,
   "metadata": {},
   "outputs": [],
   "source": [
    "for index, row in work_df.iterrows():\n",
    "\n",
    "    if row['action'] == 'turn on':\n",
    "\n",
    "        lights = turn_on(matrix=lights, begin=row['begin'], end=row['end'])\n",
    "\n",
    "    elif row['action'] == 'turn off':\n",
    "\n",
    "        lights = turn_off(matrix=lights, begin=row['begin'], end=row['end'])\n",
    "\n",
    "    else:\n",
    "\n",
    "        lights = toggle(matrix=lights, begin=row['begin'], end=row['end'])\n"
   ]
  },
  {
   "cell_type": "code",
   "execution_count": null,
   "metadata": {},
   "outputs": [],
   "source": [
    "work_df.action.unique()"
   ]
  },
  {
   "cell_type": "code",
   "execution_count": 55,
   "metadata": {},
   "outputs": [],
   "source": [
    "n = 0\n",
    "\n",
    "for i in range(len(lights)):\n",
    "\n",
    "    for j in range(len(lights[i])):\n",
    "\n",
    "        if lights[i][j] == \"1\":\n",
    "\n",
    "            n += 1"
   ]
  },
  {
   "cell_type": "markdown",
   "metadata": {},
   "source": [
    "# Part 2"
   ]
  },
  {
   "cell_type": "code",
   "execution_count": 10,
   "metadata": {},
   "outputs": [],
   "source": [
    "lights_check = [[0 for i in range(1000)] for j in range(1000)]"
   ]
  },
  {
   "cell_type": "code",
   "execution_count": 11,
   "metadata": {},
   "outputs": [],
   "source": [
    "def turn_on(matrix, begin, end):\n",
    "\n",
    "    begin = re.findall('(.*),(.*)', begin)\n",
    "    x1 = int(begin[0][0])\n",
    "    y1 = int(begin[0][1])\n",
    "\n",
    "    end = re.findall('(.*),(.*)', end)\n",
    "    x2 = int(end[0][0])\n",
    "    y2 = int(end[0][1])\n",
    "\n",
    "    for i in range(x1, x2 + 1):\n",
    "\n",
    "        for j in range(y1, y2 + 1):\n",
    "\n",
    "            matrix[i][j] = matrix[i][j] + 1\n",
    "\n",
    "    return matrix\n",
    "\n",
    "def turn_off(matrix, begin, end):\n",
    "\n",
    "    begin = re.findall('(.*),(.*)', begin)\n",
    "    x1 = int(begin[0][0])\n",
    "    y1 = int(begin[0][1])\n",
    "\n",
    "    end = re.findall('(.*),(.*)', end)\n",
    "    x2 = int(end[0][0])\n",
    "    y2 = int(end[0][1])\n",
    "\n",
    "    for i in range(x1, x2 + 1):\n",
    "\n",
    "        for j in range(y1, y2 + 1):\n",
    "\n",
    "            if matrix[i][j] == 0: \n",
    "                \n",
    "                matrix[i][j] = 0\n",
    "\n",
    "            else:\n",
    "\n",
    "                matrix[i][j] = matrix[i][j] - 1\n",
    "\n",
    "            # matrix[i] = matrix[i][:j] + str(adjust) + matrix[i][j+1:]\n",
    "\n",
    "    return matrix\n",
    "\n",
    "def toggle(matrix, begin, end):\n",
    "\n",
    "    begin = re.findall('(.*),(.*)', begin)\n",
    "    x1 = int(begin[0][0])\n",
    "    y1 = int(begin[0][1])\n",
    "\n",
    "    end = re.findall('(.*),(.*)', end)\n",
    "    x2 = int(end[0][0])\n",
    "    y2 = int(end[0][1])\n",
    "\n",
    "    for i in range(x1, x2 + 1):\n",
    "\n",
    "        for j in range(y1, y2 + 1):\n",
    "\n",
    "            matrix[i][j] = matrix[i][j] + 2\n",
    "\n",
    "    return matrix"
   ]
  },
  {
   "cell_type": "code",
   "execution_count": 71,
   "metadata": {},
   "outputs": [],
   "source": [
    "# def turn_on(n, begin, end):\n",
    "\n",
    "#     begin = re.findall('(.*),(.*)', begin)\n",
    "#     x1 = int(begin[0][0])\n",
    "#     y1 = int(begin[0][1])\n",
    "\n",
    "#     end = re.findall('(.*),(.*)', end)\n",
    "#     x2 = int(end[0][0])\n",
    "#     y2 = int(end[0][1])\n",
    "\n",
    "#     adjust = (x2+1-x1)*(y2+1-y1)\n",
    "#     n += adjust\n",
    "\n",
    "#     return n\n",
    "\n",
    "# def turn_off(n, begin, end):\n",
    "\n",
    "#     begin = re.findall('(.*),(.*)', begin)\n",
    "#     x1 = int(begin[0][0])\n",
    "#     y1 = int(begin[0][1])\n",
    "\n",
    "#     end = re.findall('(.*),(.*)', end)\n",
    "#     x2 = int(end[0][0])\n",
    "#     y2 = int(end[0][1])\n",
    "\n",
    "#     adjust = (x2+1-x1)*(y2+1-y1)\n",
    "\n",
    "#     if n > adjust:\n",
    "\n",
    "#         n = n - adjust\n",
    "\n",
    "#     else:\n",
    "\n",
    "#         n = 0\n",
    "\n",
    "#     return n\n",
    "\n",
    "# def toggle(n, begin, end):\n",
    "\n",
    "#     begin = re.findall('(.*),(.*)', begin)\n",
    "#     x1 = int(begin[0][0])\n",
    "#     y1 = int(begin[0][1])\n",
    "\n",
    "#     end = re.findall('(.*),(.*)', end)\n",
    "#     x2 = int(end[0][0])\n",
    "#     y2 = int(end[0][1])\n",
    "\n",
    "#     adjust = (x2+1-x1)*(y2+1-y1)*2\n",
    "\n",
    "#     n += adjust\n",
    "    \n",
    "#     return n"
   ]
  },
  {
   "cell_type": "code",
   "execution_count": 63,
   "metadata": {},
   "outputs": [],
   "source": [
    "# time_to_repeat = 1000\n",
    "# string = \"0\" * time_to_repeat\n",
    "# lights = []\n",
    "# for i in range(1000):\n",
    "\n",
    "#     lights.append(string)"
   ]
  },
  {
   "cell_type": "code",
   "execution_count": 69,
   "metadata": {},
   "outputs": [],
   "source": []
  },
  {
   "cell_type": "code",
   "execution_count": 72,
   "metadata": {},
   "outputs": [],
   "source": [
    "# for index, row in work_df.iterrows():\n",
    "\n",
    "#     if row['action'] == 'turn on':\n",
    "\n",
    "#         n = turn_on(n=n, begin=row['begin'], end=row['end'])\n",
    "\n",
    "#     elif row['action'] == 'turn off':\n",
    "\n",
    "#         n = turn_off(n=n, begin=row['begin'], end=row['end'])\n",
    "\n",
    "#     else:\n",
    "\n",
    "#         n = toggle(n=n, begin=row['begin'], end=row['end'])"
   ]
  },
  {
   "cell_type": "code",
   "execution_count": 12,
   "metadata": {},
   "outputs": [],
   "source": [
    "for index, row in work_df.iterrows():\n",
    "\n",
    "    if row['action'] == 'turn on':\n",
    "\n",
    "        lights_check = turn_on(matrix=lights_check, begin=row['begin'], end=row['end'])\n",
    "\n",
    "    elif row['action'] == 'turn off':\n",
    "\n",
    "        lights_check = turn_off(matrix=lights_check, begin=row['begin'], end=row['end'])\n",
    "\n",
    "    else:\n",
    "\n",
    "        lights_check = toggle(matrix=lights_check, begin=row['begin'], end=row['end'])\n"
   ]
  },
  {
   "cell_type": "code",
   "execution_count": 13,
   "metadata": {},
   "outputs": [],
   "source": [
    "n = 0\n",
    "for i in range(len(lights_check)):\n",
    "\n",
    "    for j in range(len(lights_check[i])):\n",
    "\n",
    "        n += lights_check[i][j]"
   ]
  },
  {
   "cell_type": "code",
   "execution_count": 14,
   "metadata": {},
   "outputs": [
    {
     "data": {
      "text/plain": [
       "14110788"
      ]
     },
     "execution_count": 14,
     "metadata": {},
     "output_type": "execute_result"
    }
   ],
   "source": [
    "n"
   ]
  }
 ],
 "metadata": {
  "kernelspec": {
   "display_name": "advent_of_code",
   "language": "python",
   "name": "python3"
  },
  "language_info": {
   "codemirror_mode": {
    "name": "ipython",
    "version": 3
   },
   "file_extension": ".py",
   "mimetype": "text/x-python",
   "name": "python",
   "nbconvert_exporter": "python",
   "pygments_lexer": "ipython3",
   "version": "3.10.0"
  }
 },
 "nbformat": 4,
 "nbformat_minor": 2
}

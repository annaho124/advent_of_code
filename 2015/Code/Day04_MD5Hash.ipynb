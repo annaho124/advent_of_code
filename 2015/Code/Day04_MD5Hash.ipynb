{
 "cells": [
  {
   "cell_type": "code",
   "execution_count": 1,
   "metadata": {},
   "outputs": [],
   "source": [
    "from md5hash import scan"
   ]
  },
  {
   "cell_type": "code",
   "execution_count": 7,
   "metadata": {},
   "outputs": [],
   "source": [
    "path = \"../DATA/Day04_MD5Hash.txt\"\n",
    "# md5_hash = scan(path)\n",
    "start = 0\n",
    "input = \"ckczppom\"\n",
    "\n",
    "md5_hash = scan(path)\n",
    "\n",
    "while md5_hash[0:6] != \"000000\":\n",
    "    \n",
    "    string = input + str(start)\n",
    "\n",
    "    f = open(\"../DATA/Day05_MD5Hash.txt\", \"w\")\n",
    "    f.write(string)\n",
    "    f.close()\n",
    "\n",
    "    md5_hash = scan(path)\n",
    "\n",
    "    start = start + 1\n"
   ]
  },
  {
   "cell_type": "code",
   "execution_count": 8,
   "metadata": {},
   "outputs": [
    {
     "data": {
      "text/plain": [
       "3938039"
      ]
     },
     "execution_count": 8,
     "metadata": {},
     "output_type": "execute_result"
    }
   ],
   "source": [
    "start"
   ]
  }
 ],
 "metadata": {
  "kernelspec": {
   "display_name": "ngan",
   "language": "python",
   "name": "python3"
  },
  "language_info": {
   "codemirror_mode": {
    "name": "ipython",
    "version": 3
   },
   "file_extension": ".py",
   "mimetype": "text/x-python",
   "name": "python",
   "nbconvert_exporter": "python",
   "pygments_lexer": "ipython3",
   "version": "3.10.0"
  }
 },
 "nbformat": 4,
 "nbformat_minor": 2
}

{
 "cells": [
  {
   "cell_type": "code",
   "execution_count": 9,
   "metadata": {},
   "outputs": [],
   "source": [
    "import pandas as pd\n",
    "import re"
   ]
  },
  {
   "cell_type": "markdown",
   "metadata": {},
   "source": [
    "# Part 1"
   ]
  },
  {
   "cell_type": "code",
   "execution_count": 10,
   "metadata": {},
   "outputs": [],
   "source": [
    "input_df = pd.read_excel(\"../DATA/Day02_WrappingPaper.xlsx\")"
   ]
  },
  {
   "cell_type": "code",
   "execution_count": 11,
   "metadata": {},
   "outputs": [],
   "source": [
    "input_df[['l', 'w', 'h']] = input_df['Box'].str.split(\"x\", n = 2, expand=True)\n",
    "input_df = input_df.astype({\n",
    "    'l': 'int',\n",
    "    'w': 'int',\n",
    "    'h': 'int'\n",
    "})"
   ]
  },
  {
   "cell_type": "code",
   "execution_count": 12,
   "metadata": {},
   "outputs": [],
   "source": [
    "area_df = input_df.assign(\n",
    "    lw = lambda x: x.l*x.w,\n",
    "    wh = lambda x: x.w*x.h,\n",
    "    lh = lambda x: x.l*x.h\n",
    ")\n",
    "area_df['min_area'] = area_df[['lh', 'lw', 'wh']].min(axis=1)"
   ]
  },
  {
   "cell_type": "code",
   "execution_count": 13,
   "metadata": {},
   "outputs": [],
   "source": [
    "area_df = area_df.assign(\n",
    "    area = lambda x: 2*x.lw + 2*x.lh + 2*x.wh + x.min_area\n",
    ")"
   ]
  },
  {
   "cell_type": "code",
   "execution_count": 14,
   "metadata": {},
   "outputs": [
    {
     "data": {
      "text/plain": [
       "1586300"
      ]
     },
     "execution_count": 14,
     "metadata": {},
     "output_type": "execute_result"
    }
   ],
   "source": [
    "area_df.area.sum()"
   ]
  },
  {
   "cell_type": "markdown",
   "metadata": {},
   "source": [
    "## Part 2"
   ]
  },
  {
   "cell_type": "code",
   "execution_count": 20,
   "metadata": {},
   "outputs": [],
   "source": [
    "ribbon_df = input_df.copy(deep=False)"
   ]
  },
  {
   "cell_type": "code",
   "execution_count": 21,
   "metadata": {},
   "outputs": [],
   "source": [
    "ribbon_df['max_dim'] = ribbon_df[['l', 'w', 'h']].max(axis=1)\n",
    "ribbon_df = ribbon_df.assign(\n",
    "    wrap_length = lambda x: 2*x.l + 2*x.h + 2*x.w - 2*x.max_dim,\n",
    "    bow_length = lambda x: x.l*x.h*x.w,\n",
    "    total_length = lambda x: x.wrap_length + x.bow_length\n",
    ")"
   ]
  },
  {
   "cell_type": "code",
   "execution_count": 22,
   "metadata": {},
   "outputs": [
    {
     "data": {
      "text/plain": [
       "3737498"
      ]
     },
     "execution_count": 22,
     "metadata": {},
     "output_type": "execute_result"
    }
   ],
   "source": [
    "ribbon_df.total_length.sum()"
   ]
  }
 ],
 "metadata": {
  "kernelspec": {
   "display_name": "advent_of_code",
   "language": "python",
   "name": "python3"
  },
  "language_info": {
   "codemirror_mode": {
    "name": "ipython",
    "version": 3
   },
   "file_extension": ".py",
   "mimetype": "text/x-python",
   "name": "python",
   "nbconvert_exporter": "python",
   "pygments_lexer": "ipython3",
   "version": "3.10.13"
  }
 },
 "nbformat": 4,
 "nbformat_minor": 2
}

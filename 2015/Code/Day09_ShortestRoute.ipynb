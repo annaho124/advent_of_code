{
 "cells": [
  {
   "cell_type": "code",
   "execution_count": 1,
   "metadata": {},
   "outputs": [],
   "source": [
    "import pandas as pd"
   ]
  },
  {
   "cell_type": "code",
   "execution_count": 2,
   "metadata": {},
   "outputs": [],
   "source": [
    "input_df = pd.read_excel(\"../DATA/Day09_ShortestRoute.xlsx\")"
   ]
  },
  {
   "cell_type": "code",
   "execution_count": 3,
   "metadata": {},
   "outputs": [],
   "source": [
    "input_df[['route','distance']] = input_df['Route'].str.split(' = ', expand=True)\n",
    "input_df[['origin','dest']] = input_df['route'].str.split(' to ', expand=True)\n",
    "input_df = input_df.drop(columns=['Route', 'route'])\n",
    "input_df['distance'] = input_df['distance'].astype(int)"
   ]
  },
  {
   "cell_type": "markdown",
   "metadata": {},
   "source": [
    "# Part 1"
   ]
  },
  {
   "cell_type": "code",
   "execution_count": 4,
   "metadata": {},
   "outputs": [],
   "source": [
    "n_place = list(input_df['origin']) + list(input_df['dest'])\n",
    "n_place = list(set(n_place))"
   ]
  },
  {
   "cell_type": "markdown",
   "metadata": {},
   "source": [
    "## Start with Fearun"
   ]
  },
  {
   "cell_type": "code",
   "execution_count": 6,
   "metadata": {},
   "outputs": [],
   "source": [
    "final_route = pd.DataFrame({})\n",
    "\n",
    "for i in n_place:\n",
    "\n",
    "\n",
    "    faerun_df = input_df[input_df['origin'] == i]\n",
    "\n",
    "    faerun_df = faerun_df.merge(input_df, how='left', left_on='dest', right_on='origin', suffixes=(\"_1\", \"_2\"))\n",
    "    faerun_df['distance'] = faerun_df['distance_1'] + faerun_df['distance_2']\n",
    "    faerun_df = faerun_df.drop(columns=[\"dest_1\", \"distance_1\", \"distance_2\"])\n",
    "\n",
    "    faerun_df = faerun_df.merge(input_df, how='left', left_on='dest_2', right_on='origin', suffixes=(\"\", \"_3\"))\n",
    "    faerun_df['distance'] = faerun_df['distance'] + faerun_df['distance_3']\n",
    "    faerun_df = faerun_df.drop(columns=[\"dest_2\", \"distance_3\"])\n",
    "\n",
    "    faerun_df = faerun_df.merge(input_df, how='left', left_on='dest', right_on='origin', suffixes=(\"_3\", \"_4\"))\n",
    "    faerun_df['distance'] = faerun_df['distance_3'] + faerun_df['distance_4']\n",
    "    faerun_df = faerun_df.drop(columns=[\"dest_3\", \"distance_4\", \"distance_3\"])\n",
    "\n",
    "    faerun_df = faerun_df.merge(input_df, how='left', left_on='dest_4', right_on='origin', suffixes=(\"\", \"_5\"))\n",
    "    faerun_df['distance'] = faerun_df['distance'] + faerun_df['distance_5']\n",
    "    faerun_df = faerun_df.drop(columns=[\"dest_4\", \"distance_5\"])\n",
    "\n",
    "    faerun_df = faerun_df.merge(input_df, how='left', left_on='dest', right_on='origin', suffixes=(\"_5\", \"_6\"))\n",
    "    faerun_df['distance'] = faerun_df['distance_6'] + faerun_df['distance_5']\n",
    "    faerun_df = faerun_df.drop(columns=[\"dest_5\", \"distance_5\", \"distance_6\"])\n",
    "\n",
    "    faerun_df = faerun_df.merge(input_df, how='left', left_on='dest_6', right_on='origin', suffixes=(\"\", \"_7\"))\n",
    "    faerun_df['distance'] = faerun_df['distance'] + faerun_df['distance_7']\n",
    "    faerun_df = faerun_df.drop(columns=[\"dest_6\", \"distance_7\"])\n",
    "\n",
    "    final = faerun_df[~faerun_df.isnull().any(axis=1)]\n",
    "\n",
    "    final_route = pd.concat([final, final_route])"
   ]
  },
  {
   "cell_type": "code",
   "execution_count": 88,
   "metadata": {},
   "outputs": [],
   "source": [
    "faerun_df = input_df[input_df['origin'] == 'Faerun']"
   ]
  },
  {
   "cell_type": "code",
   "execution_count": 89,
   "metadata": {},
   "outputs": [],
   "source": [
    "faerun_df = faerun_df.merge(input_df, how='left', left_on='dest', right_on='origin', suffixes=(\"_1\", \"_2\"))\n",
    "faerun_df['distance'] = faerun_df['distance_1'] + faerun_df['distance_2']\n",
    "faerun_df = faerun_df.drop(columns=[\"dest_1\", \"distance_1\", \"distance_2\"])"
   ]
  },
  {
   "cell_type": "code",
   "execution_count": 90,
   "metadata": {},
   "outputs": [],
   "source": [
    "faerun_df = faerun_df.merge(input_df, how='left', left_on='dest_2', right_on='origin', suffixes=(\"\", \"_3\"))\n",
    "faerun_df['distance'] = faerun_df['distance'] + faerun_df['distance_3']\n",
    "faerun_df = faerun_df.drop(columns=[\"dest_2\", \"distance_3\"])"
   ]
  },
  {
   "cell_type": "code",
   "execution_count": 91,
   "metadata": {},
   "outputs": [],
   "source": [
    "faerun_df = faerun_df.merge(input_df, how='left', left_on='dest', right_on='origin', suffixes=(\"_3\", \"_4\"))\n",
    "faerun_df['distance'] = faerun_df['distance_3'] + faerun_df['distance_4']\n",
    "faerun_df = faerun_df.drop(columns=[\"dest_3\", \"distance_4\", \"distance_3\"])"
   ]
  },
  {
   "cell_type": "code",
   "execution_count": 92,
   "metadata": {},
   "outputs": [],
   "source": [
    "faerun_df = faerun_df.merge(input_df, how='left', left_on='dest_4', right_on='origin', suffixes=(\"\", \"_5\"))\n",
    "faerun_df['distance'] = faerun_df['distance'] + faerun_df['distance_5']\n",
    "faerun_df = faerun_df.drop(columns=[\"dest_4\", \"distance_5\"])"
   ]
  },
  {
   "cell_type": "code",
   "execution_count": 93,
   "metadata": {},
   "outputs": [],
   "source": [
    "faerun_df = faerun_df.merge(input_df, how='left', left_on='dest', right_on='origin', suffixes=(\"_5\", \"_6\"))\n",
    "faerun_df['distance'] = faerun_df['distance_6'] + faerun_df['distance_5']\n",
    "faerun_df = faerun_df.drop(columns=[\"dest_5\", \"distance_5\", \"distance_6\"])"
   ]
  },
  {
   "cell_type": "code",
   "execution_count": 94,
   "metadata": {},
   "outputs": [],
   "source": [
    "faerun_df = faerun_df.merge(input_df, how='left', left_on='dest_6', right_on='origin', suffixes=(\"\", \"_7\"))\n",
    "faerun_df['distance'] = faerun_df['distance'] + faerun_df['distance_7']\n",
    "faerun_df = faerun_df.drop(columns=[\"dest_6\", \"distance_7\"])"
   ]
  },
  {
   "cell_type": "code",
   "execution_count": 95,
   "metadata": {},
   "outputs": [],
   "source": [
    "final = faerun_df[~faerun_df.isnull().any(axis=1)]"
   ]
  },
  {
   "cell_type": "code",
   "execution_count": 82,
   "metadata": {},
   "outputs": [],
   "source": [
    "# faerun_df = faerun_df.merge(input_df, how='left', left_on='dest', right_on='origin', suffixes=(\"_7\", \"_8\"))\n",
    "# faerun_df['distance'] = faerun_df['distance'] + faerun_df['distance_7']\n",
    "# faerun_df = faerun_df.drop(columns=[\"dest_6\", \"distance_7\"])"
   ]
  }
 ],
 "metadata": {
  "kernelspec": {
   "display_name": "advent_of_code",
   "language": "python",
   "name": "python3"
  },
  "language_info": {
   "codemirror_mode": {
    "name": "ipython",
    "version": 3
   },
   "file_extension": ".py",
   "mimetype": "text/x-python",
   "name": "python",
   "nbconvert_exporter": "python",
   "pygments_lexer": "ipython3",
   "version": "3.10.0"
  }
 },
 "nbformat": 4,
 "nbformat_minor": 2
}
